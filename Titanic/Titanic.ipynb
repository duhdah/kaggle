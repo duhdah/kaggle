{
  "nbformat": 4,
  "nbformat_minor": 0,
  "metadata": {
    "colab": {
      "provenance": []
    },
    "kernelspec": {
      "name": "python3",
      "display_name": "Python 3"
    },
    "language_info": {
      "name": "python"
    }
  },
  "cells": [
    {
      "cell_type": "markdown",
      "source": [
        "# Titanic\n",
        "\n"
      ],
      "metadata": {
        "id": "eWIMIJQOW_Yv"
      }
    },
    {
      "cell_type": "markdown",
      "source": [
        "**Proposta:** Construir um modelo de previsão que responda a pergunta: \"Quais tipos de pessoas tinham maior probabilidade de sobreviver?\" usando os dados dos passageiros (como nome, idade, gênero, classe socio-econômica, etc...).\n",
        "\n",
        "**Link do Kaggle:** https://www.kaggle.com/competitions/titanic\n"
      ],
      "metadata": {
        "id": "VeE1JtReW20Y"
      }
    },
    {
      "cell_type": "markdown",
      "source": [
        "## Análise, tratamento e pré-processamento dos dados de treino\n"
      ],
      "metadata": {
        "id": "Qq-lOpeVa8Wm"
      }
    },
    {
      "cell_type": "markdown",
      "source": [
        "Link do Kaggle: https://www.kaggle.com/competitions/titanic"
      ],
      "metadata": {
        "id": "Wy5k-5h7aIzb"
      }
    },
    {
      "cell_type": "code",
      "execution_count": null,
      "metadata": {
        "id": "hyrbdEGaZ_cB"
      },
      "outputs": [],
      "source": [
        "import numpy as np\n",
        "import pandas as pd\n",
        "dados_teste = pd.read_csv('/content/drive/MyDrive/CursoML/Titanic/test.csv',sep=',', encoding='iso-8859-1')\n",
        "dados_treino = pd.read_csv('/content/drive/MyDrive/CursoML/Titanic/train.csv',sep=',', encoding='iso-8859-1')"
      ]
    },
    {
      "cell_type": "code",
      "source": [
        "dados_treino"
      ],
      "metadata": {
        "id": "2PYZmdLVakyl"
      },
      "execution_count": null,
      "outputs": []
    },
    {
      "cell_type": "code",
      "source": [
        "dados_treino.info()"
      ],
      "metadata": {
        "id": "5kTo9wOhbX3f"
      },
      "execution_count": null,
      "outputs": []
    },
    {
      "cell_type": "code",
      "source": [
        "dados_treino.isnull().sum()"
      ],
      "metadata": {
        "id": "KO_it4_lbhwu"
      },
      "execution_count": null,
      "outputs": []
    },
    {
      "cell_type": "code",
      "source": [
        "pd.pivot_table(dados_treino, index='Survived', values = ['Age','SibSp','Parch','Fare'])"
      ],
      "metadata": {
        "id": "a_o8HkhrpdHS"
      },
      "execution_count": null,
      "outputs": []
    },
    {
      "cell_type": "code",
      "source": [
        "dados_treino2 = dados_treino.dropna()"
      ],
      "metadata": {
        "id": "RuwRwOBXb36A"
      },
      "execution_count": null,
      "outputs": []
    },
    {
      "cell_type": "code",
      "source": [
        "dados_treino['Age'].fillna(dados_treino2['Age'].mean(), inplace=True)"
      ],
      "metadata": {
        "id": "U1dp6ilTbobD"
      },
      "execution_count": null,
      "outputs": []
    },
    {
      "cell_type": "markdown",
      "source": [
        "Ao invés de dropar a categoria Cabin, buscar padrões como a compra de tickets de várias cabines e das letras das cabines"
      ],
      "metadata": {
        "id": "zVqw0h5kvN0M"
      }
    },
    {
      "cell_type": "code",
      "source": [
        "dados_treino.Cabin"
      ],
      "metadata": {
        "id": "F5QXCiefwn3K"
      },
      "execution_count": null,
      "outputs": []
    },
    {
      "cell_type": "code",
      "source": [
        "dados_treino['cabin_quantidade'] = dados_treino.Cabin.apply(lambda x: 0 if pd.isna(x) else len(x.split(' ')))\n",
        "dados_treino['cabin_quantidade'].value_counts()"
      ],
      "metadata": {
        "id": "LhFMKTXnssCa"
      },
      "execution_count": null,
      "outputs": []
    },
    {
      "cell_type": "code",
      "source": [
        "dados_treino['cabin_letra'] = dados_treino.Cabin.apply(lambda x: str(x)[0])\n",
        "dados_treino['cabin_letra'].value_counts()"
      ],
      "metadata": {
        "id": "Y0OeU7izwYS-"
      },
      "execution_count": null,
      "outputs": []
    },
    {
      "cell_type": "markdown",
      "source": [
        "Ticket: Separar por número de letras"
      ],
      "metadata": {
        "id": "rVBDlww-wyQK"
      }
    },
    {
      "cell_type": "code",
      "source": [
        "dados_treino['ticket_numerico'] = dados_treino.Ticket.apply(lambda x: 1 if x.isnumeric() else 0)\n",
        "dados_treino['ticket_letras'] = dados_treino.Ticket.apply(lambda x: ''.join(x.split(' ')[:-1]).replace('.','').replace('/','').lower() if len(x.split(' ')[:-1]) >0 else 0)"
      ],
      "metadata": {
        "id": "6joyknvwduSL"
      },
      "execution_count": null,
      "outputs": []
    },
    {
      "cell_type": "code",
      "source": [
        "dados_treino['ticket_numerico'].value_counts()"
      ],
      "metadata": {
        "id": "8YFL-qvTw_HX"
      },
      "execution_count": null,
      "outputs": []
    },
    {
      "cell_type": "code",
      "source": [
        "dados_treino['ticket_letras'].value_counts()"
      ],
      "metadata": {
        "id": "t2nE2KpTxEyq"
      },
      "execution_count": null,
      "outputs": []
    },
    {
      "cell_type": "code",
      "source": [
        "pd.pivot_table(dados_treino,index='Survived',columns='ticket_numerico', values = 'Ticket', aggfunc='count')"
      ],
      "metadata": {
        "id": "mYvq2ECuxkAv"
      },
      "execution_count": null,
      "outputs": []
    },
    {
      "cell_type": "code",
      "source": [
        "pd.pivot_table(dados_treino,index='Survived',columns='ticket_letras', values = 'Ticket', aggfunc='count')\n"
      ],
      "metadata": {
        "id": "RJRxoK-FxrzW"
      },
      "execution_count": null,
      "outputs": []
    },
    {
      "cell_type": "markdown",
      "source": [
        "Nome: Manter apenas os títulos"
      ],
      "metadata": {
        "id": "j0VcBJHxx2T0"
      }
    },
    {
      "cell_type": "code",
      "source": [
        "dados_treino.Name.head(50)\n",
        "dados_treino['name_titulo'] = dados_treino.Name.apply(lambda x: x.split(',')[1].split('.')[0].strip())"
      ],
      "metadata": {
        "id": "65h-8xNKx4yz"
      },
      "execution_count": null,
      "outputs": []
    },
    {
      "cell_type": "code",
      "source": [
        "dados_treino['name_titulo'].value_counts()"
      ],
      "metadata": {
        "id": "dDGqz1iAx-1x"
      },
      "execution_count": null,
      "outputs": []
    },
    {
      "cell_type": "code",
      "source": [
        "dados_treino.drop(['PassengerId'], axis=1, inplace=True)"
      ],
      "metadata": {
        "id": "YuaG8D_yfWDI"
      },
      "execution_count": null,
      "outputs": []
    },
    {
      "cell_type": "code",
      "source": [
        "from sklearn.preprocessing import StandardScaler\n",
        "dados_treino['Fare'] = StandardScaler().fit_transform(dados_treino['Fare'].values.reshape(-1, 1))"
      ],
      "metadata": {
        "id": "2K-zb_IaCm3H"
      },
      "execution_count": null,
      "outputs": []
    },
    {
      "cell_type": "code",
      "source": [
        "dados_treino"
      ],
      "metadata": {
        "id": "1G7uWHmGdlJl"
      },
      "execution_count": null,
      "outputs": []
    },
    {
      "cell_type": "code",
      "source": [
        "#conta quantas cabines cada passageiro tem\n",
        "dados_treino['cabin_quantidade'] = dados_treino.Cabin.apply(lambda x: 0 if pd.isna(x) else len(x.split(' ')))"
      ],
      "metadata": {
        "id": "2B1_TqW4yvrO"
      },
      "execution_count": null,
      "outputs": []
    },
    {
      "cell_type": "code",
      "source": [
        "#guarda apenas a primeira letra das cabines\n",
        "dados_treino['cabin_letra'] = dados_treino.Cabin.apply(lambda x: str(x)[0])"
      ],
      "metadata": {
        "id": "Epp9imgvzSMj"
      },
      "execution_count": null,
      "outputs": []
    },
    {
      "cell_type": "code",
      "source": [
        "#classifica se é ou não numérico\n",
        "dados_treino['ticket_numerico'] = dados_treino.Ticket.apply(lambda x: 1 if x.isnumeric() else 0)"
      ],
      "metadata": {
        "id": "tuAcFBgQz3-L"
      },
      "execution_count": null,
      "outputs": []
    },
    {
      "cell_type": "code",
      "source": [
        "#junta as letras do ticket\n",
        "dados_treino['ticket_letras'] = dados_treino.Ticket.apply(lambda x: ''.join(x.split(' ')[:-1]).replace('.','').replace('/','').lower() if len(x.split(' ')[:-1]) >0 else 0)"
      ],
      "metadata": {
        "id": "xp6MagHw0I5I"
      },
      "execution_count": null,
      "outputs": []
    },
    {
      "cell_type": "code",
      "source": [
        "#guarda apenas os títulos\n",
        "dados_treino['name_titulo'] = dados_treino.Name.apply(lambda x: x.split(',')[1].split('.')[0].strip())"
      ],
      "metadata": {
        "id": "Xp-r4hC702mX"
      },
      "execution_count": null,
      "outputs": []
    },
    {
      "cell_type": "code",
      "source": [
        "dados_treino['Embarked'].value_counts()"
      ],
      "metadata": {
        "id": "SLoWyMbSd2Wi"
      },
      "execution_count": null,
      "outputs": []
    },
    {
      "cell_type": "code",
      "source": [
        "dados_treino['Sex'].replace({'male':0, 'female': 1}, inplace=True)"
      ],
      "metadata": {
        "id": "Adx_Ln78d8Xk"
      },
      "execution_count": null,
      "outputs": []
    },
    {
      "cell_type": "code",
      "source": [
        "dados_treino['Embarked'].fillna(dados_treino['Embarked'].mode()[0], inplace=True)"
      ],
      "metadata": {
        "id": "mfsqkK4zejrv"
      },
      "execution_count": null,
      "outputs": []
    },
    {
      "cell_type": "code",
      "source": [
        "dados_treino['Embarked'].replace({'S':0, 'C': 1, 'Q':2}, inplace=True)"
      ],
      "metadata": {
        "id": "UDl1QLWmeudb"
      },
      "execution_count": null,
      "outputs": []
    },
    {
      "cell_type": "code",
      "source": [
        "dados_treino = dados_treino.drop(['Name'], axis=1)"
      ],
      "metadata": {
        "id": "VIIy9R-eDM6q"
      },
      "execution_count": null,
      "outputs": []
    },
    {
      "cell_type": "code",
      "source": [
        "dados_treino = dados_treino.drop(['Ticket'], axis=1)"
      ],
      "metadata": {
        "id": "QOVU9evZDSzk"
      },
      "execution_count": null,
      "outputs": []
    },
    {
      "cell_type": "code",
      "source": [
        "dados_treino = dados_treino.drop(['Cabin'], axis=1)"
      ],
      "metadata": {
        "id": "tdhzqoIwDXZo"
      },
      "execution_count": null,
      "outputs": []
    },
    {
      "cell_type": "code",
      "source": [
        "# como as letras não têm tantas similaridades, não vale a pena manter essa coluna\n",
        "dados_treino.drop(['ticket_letras'], axis=1, inplace=True)"
      ],
      "metadata": {
        "id": "kYHqjvp4Ketb"
      },
      "execution_count": null,
      "outputs": []
    },
    {
      "cell_type": "code",
      "source": [
        "previsores_treino = dados_treino.iloc[:, 1:12].values"
      ],
      "metadata": {
        "id": "PnqhywuEfgyg"
      },
      "execution_count": null,
      "outputs": []
    },
    {
      "cell_type": "code",
      "source": [
        "previsores_treino"
      ],
      "metadata": {
        "id": "NnvQA0cXK1V8"
      },
      "execution_count": null,
      "outputs": []
    },
    {
      "cell_type": "code",
      "source": [
        "from sklearn.compose import ColumnTransformer\n",
        "from sklearn.preprocessing import OneHotEncoder\n",
        "\n",
        "colunas_categoricas = [8, 10]\n",
        "\n",
        "col_transformer = ColumnTransformer(\n",
        "    transformers=[('OneHot', OneHotEncoder(handle_unknown='ignore'), colunas_categoricas)],\n",
        "    remainder='passthrough'\n",
        ")\n",
        "\n",
        "previsores_treino2 = col_transformer.fit_transform(previsores_treino)\n",
        "\n",
        "scaler = StandardScaler()\n",
        "\n",
        "previsores_treino3 = scaler.fit_transform(previsores_treino2)"
      ],
      "metadata": {
        "id": "Pd45Hw8iKvBo"
      },
      "execution_count": null,
      "outputs": []
    },
    {
      "cell_type": "code",
      "source": [
        "previsores_treino2"
      ],
      "metadata": {
        "id": "cjlo12cgLLAF"
      },
      "execution_count": null,
      "outputs": []
    },
    {
      "cell_type": "code",
      "source": [
        "previsores_treino3 = StandardScaler().fit_transform(previsores_treino2)"
      ],
      "metadata": {
        "id": "qxbvdQOjLMsy"
      },
      "execution_count": null,
      "outputs": []
    },
    {
      "cell_type": "code",
      "source": [
        "previsores_treino3"
      ],
      "metadata": {
        "id": "NvJ7gjC9LvS3"
      },
      "execution_count": null,
      "outputs": []
    },
    {
      "cell_type": "code",
      "source": [
        "alvo = dados_treino.iloc[:, 0].values"
      ],
      "metadata": {
        "id": "wj3qjfurf03k"
      },
      "execution_count": null,
      "outputs": []
    },
    {
      "cell_type": "markdown",
      "source": [
        "## Análise, tratamento e pré-processamento dos dados de teste\n"
      ],
      "metadata": {
        "id": "FT9DVoVwGWBv"
      }
    },
    {
      "cell_type": "code",
      "source": [
        "dados_teste"
      ],
      "metadata": {
        "id": "ILg9cjlj_52P"
      },
      "execution_count": null,
      "outputs": []
    },
    {
      "cell_type": "code",
      "source": [
        "dados_teste.isnull().sum()"
      ],
      "metadata": {
        "id": "ofNaTY-iBGDu"
      },
      "execution_count": null,
      "outputs": []
    },
    {
      "cell_type": "code",
      "source": [
        "dados_teste['cabin_quantidade'] = dados_teste.Cabin.apply(lambda x: 0 if pd.isna(x) else len(x.split(' ')))"
      ],
      "metadata": {
        "id": "ppse76CrABwK"
      },
      "execution_count": null,
      "outputs": []
    },
    {
      "cell_type": "code",
      "source": [
        "dados_teste['cabin_letra'] = dados_teste.Cabin.apply(lambda x: str(x)[0])"
      ],
      "metadata": {
        "id": "ycxe1sJ4AQwk"
      },
      "execution_count": null,
      "outputs": []
    },
    {
      "cell_type": "code",
      "source": [
        "dados_teste['ticket_numerico'] = dados_teste.Ticket.apply(lambda x: 1 if x.isnumeric() else 0)"
      ],
      "metadata": {
        "id": "7DtK7KG6AaSz"
      },
      "execution_count": null,
      "outputs": []
    },
    {
      "cell_type": "code",
      "source": [
        "dados_teste['ticket_letras'] = dados_teste.Ticket.apply(lambda x: ''.join(x.split(' ')[:-1]).replace('.','').replace('/','').lower() if len(x.split(' ')[:-1]) >0 else 0)"
      ],
      "metadata": {
        "id": "Am5MZ5wdAmlk"
      },
      "execution_count": null,
      "outputs": []
    },
    {
      "cell_type": "code",
      "source": [
        "dados_teste['name_titulo'] = dados_teste.Name.apply(lambda x: x.split(',')[1].split('.')[0].strip())"
      ],
      "metadata": {
        "id": "pIWziW34Awwf"
      },
      "execution_count": null,
      "outputs": []
    },
    {
      "cell_type": "code",
      "source": [
        "dados_teste['Age'].fillna(dados_teste['Age'].mean(), inplace=True)"
      ],
      "metadata": {
        "id": "eYLquF0yA5_I"
      },
      "execution_count": null,
      "outputs": []
    },
    {
      "cell_type": "code",
      "source": [
        "dados_teste['Fare'].fillna(dados_teste['Fare'].mean(), inplace=True)"
      ],
      "metadata": {
        "id": "k5xRyysLBJSB"
      },
      "execution_count": null,
      "outputs": []
    },
    {
      "cell_type": "code",
      "source": [
        "dados_teste['Fare'] = StandardScaler().fit_transform(dados_teste['Fare'].values.reshape(-1, 1))\n"
      ],
      "metadata": {
        "id": "A8cyRA1WB5Ad"
      },
      "execution_count": null,
      "outputs": []
    },
    {
      "cell_type": "code",
      "source": [
        "dados_teste = dados_teste.drop(['Name'], axis=1)"
      ],
      "metadata": {
        "id": "vknAjKsEEWZo"
      },
      "execution_count": null,
      "outputs": []
    },
    {
      "cell_type": "code",
      "source": [
        "dados_teste = dados_teste.drop(['Cabin'], axis=1)"
      ],
      "metadata": {
        "id": "NRzTdaKEEZli"
      },
      "execution_count": null,
      "outputs": []
    },
    {
      "cell_type": "code",
      "source": [
        "dados_teste = dados_teste.drop(['Ticket'], axis=1)"
      ],
      "metadata": {
        "id": "NZxeWvzkEbEK"
      },
      "execution_count": null,
      "outputs": []
    },
    {
      "cell_type": "code",
      "source": [
        "dados_teste = dados_teste.drop(['PassengerId'], axis=1)"
      ],
      "metadata": {
        "id": "LXU3XL1iEnhL"
      },
      "execution_count": null,
      "outputs": []
    },
    {
      "cell_type": "code",
      "source": [
        "dados_teste['Sex'].replace({'male':0, 'female': 1}, inplace=True)"
      ],
      "metadata": {
        "id": "5NAJncL3E4Xz"
      },
      "execution_count": null,
      "outputs": []
    },
    {
      "cell_type": "code",
      "source": [
        "dados_teste['Embarked'].replace({'S':0, 'C': 1, 'Q':2}, inplace=True)"
      ],
      "metadata": {
        "id": "xODFkifiFApQ"
      },
      "execution_count": null,
      "outputs": []
    },
    {
      "cell_type": "code",
      "source": [
        "dados_teste.dtypes"
      ],
      "metadata": {
        "id": "h_NEPVgfGnGy"
      },
      "execution_count": null,
      "outputs": []
    },
    {
      "cell_type": "code",
      "source": [
        "dados_teste.drop(['ticket_letras'], axis=1, inplace=True)"
      ],
      "metadata": {
        "id": "EQtyF5EDJ2Ac"
      },
      "execution_count": null,
      "outputs": []
    },
    {
      "cell_type": "code",
      "source": [
        "dados_teste2 = col_transformer.transform(dados_teste)"
      ],
      "metadata": {
        "id": "jAaKFHA6Jfat"
      },
      "execution_count": null,
      "outputs": []
    },
    {
      "cell_type": "code",
      "source": [
        "dados_teste2"
      ],
      "metadata": {
        "id": "pTH2Z6_QJmhE"
      },
      "execution_count": null,
      "outputs": []
    },
    {
      "cell_type": "code",
      "source": [
        "dados_teste3 = scaler.transform(dados_teste2)"
      ],
      "metadata": {
        "id": "sli4ZOSgJrI_"
      },
      "execution_count": null,
      "outputs": []
    },
    {
      "cell_type": "code",
      "source": [
        "dados_teste3"
      ],
      "metadata": {
        "id": "YSv8VlsOKMO-"
      },
      "execution_count": null,
      "outputs": []
    },
    {
      "cell_type": "markdown",
      "source": [
        "## Aplicação dos modelos\n"
      ],
      "metadata": {
        "id": "vBx6SbROMzsm"
      }
    },
    {
      "cell_type": "markdown",
      "source": [
        "SVM:"
      ],
      "metadata": {
        "id": "q76auebpTpSS"
      }
    },
    {
      "cell_type": "code",
      "source": [
        "from sklearn.svm import SVC\n",
        "svm = SVC(kernel='rbf', random_state=1, C = 2)\n",
        "svm.fit(previsores_treino3, alvo)\n",
        "\n",
        "previsoes_svm = svm.predict(dados_teste3)\n",
        "\n",
        "from sklearn.model_selection import KFold\n",
        "from sklearn.model_selection import cross_val_score\n",
        "kfold = KFold(n_splits = 30, shuffle=True, random_state = 5)\n",
        "modelo = SVC(kernel='rbf', random_state=1, C = 2)\n",
        "resultado = cross_val_score(modelo, previsores_treino3, alvo, cv = kfold)\n",
        "\n",
        "print(\"Acurácia Média: %.2f%%\" % (resultado.mean() * 100.0))"
      ],
      "metadata": {
        "id": "-TJln1lzM1g6"
      },
      "execution_count": null,
      "outputs": []
    },
    {
      "cell_type": "markdown",
      "source": [
        "Naive Bayes:"
      ],
      "metadata": {
        "id": "glDQpq39Tz-W"
      }
    },
    {
      "cell_type": "code",
      "source": [
        "from sklearn.naive_bayes import GaussianNB\n",
        "gnb = GaussianNB()\n",
        "resultado = cross_val_score(gnb,previsores_treino3,alvo,cv=5)\n",
        "print(\"Acurácia Média: %.2f%%\" % (resultado.mean() * 100.0))"
      ],
      "metadata": {
        "id": "y-Bb2yerTM9r"
      },
      "execution_count": null,
      "outputs": []
    },
    {
      "cell_type": "markdown",
      "source": [
        "Regressão Logística:"
      ],
      "metadata": {
        "id": "Rcr7a5LQUBGO"
      }
    },
    {
      "cell_type": "code",
      "source": [
        "from sklearn.linear_model import LogisticRegression\n",
        "lr = LogisticRegression(max_iter = 2000)\n",
        "resultado = cross_val_score(lr,previsores_treino3,alvo,cv=5)\n",
        "print(\"Acurácia Média: %.2f%%\" % (resultado.mean() * 100.0))"
      ],
      "metadata": {
        "id": "uoPTDnwKTZYJ"
      },
      "execution_count": null,
      "outputs": []
    },
    {
      "cell_type": "markdown",
      "source": [
        "KNN:"
      ],
      "metadata": {
        "id": "F3g5O0PWU8nr"
      }
    },
    {
      "cell_type": "code",
      "source": [
        "from sklearn.neighbors import KNeighborsClassifier\n",
        "knn = KNeighborsClassifier(n_neighbors=7, metric='minkowski', p=1)\n",
        "resultado = cross_val_score(knn,previsores_treino3,alvo,cv=5)\n",
        "print(\"Acurácia Média: %.2f%%\" % (resultado.mean() * 100.0))"
      ],
      "metadata": {
        "id": "6q-CY6Y7UGAo"
      },
      "execution_count": null,
      "outputs": []
    },
    {
      "cell_type": "markdown",
      "source": [
        "Árvore de decisão:"
      ],
      "metadata": {
        "id": "TYtlrhnkVTYE"
      }
    },
    {
      "cell_type": "code",
      "source": [
        "from sklearn.tree import DecisionTreeClassifier\n",
        "arvore = DecisionTreeClassifier(criterion='entropy', random_state = 0, max_depth=3)\n",
        "resultado = cross_val_score(arvore,previsores_treino3,alvo,cv=5)\n",
        "print(\"Acurácia Média: %.2f%%\" % (resultado.mean() * 100.0))"
      ],
      "metadata": {
        "id": "UO2gjQ8aVaRQ"
      },
      "execution_count": null,
      "outputs": []
    },
    {
      "cell_type": "markdown",
      "source": [
        "Random Forest:"
      ],
      "metadata": {
        "id": "yEaa4_xeUMyT"
      }
    },
    {
      "cell_type": "code",
      "source": [
        "from sklearn.ensemble import RandomForestClassifier\n",
        "random = RandomForestClassifier(n_estimators=150, criterion='entropy', random_state = 0, max_depth=4)\n",
        "resultado = cross_val_score(random,previsores_treino3,alvo,cv=5)\n",
        "print(\"Acurácia Média: %.2f%%\" % (resultado.mean() * 100.0))"
      ],
      "metadata": {
        "id": "0DV_HF37UMVK"
      },
      "execution_count": null,
      "outputs": []
    },
    {
      "cell_type": "markdown",
      "source": [
        "XGBoost:"
      ],
      "metadata": {
        "id": "s9AcNC5_UZyQ"
      }
    },
    {
      "cell_type": "code",
      "source": [
        "from xgboost import XGBClassifier\n",
        "xg = XGBClassifier(max_depth=2, learning_rate=0.05, n_estimators=250, objective='binary:logistic', random_state=3)\n",
        "resultado = cross_val_score(xg,previsores_treino3,alvo,cv=5)\n",
        "print(\"Acurácia Média: %.2f%%\" % (resultado.mean() * 100.0))"
      ],
      "metadata": {
        "id": "zLCN-r4PUbQ1"
      },
      "execution_count": null,
      "outputs": []
    },
    {
      "cell_type": "markdown",
      "source": [
        "#### Entre os algoritmos testados, o **XGBoost** apresentou a maior acurácia."
      ],
      "metadata": {
        "id": "0BqEIAtYV9xs"
      }
    }
  ]
}