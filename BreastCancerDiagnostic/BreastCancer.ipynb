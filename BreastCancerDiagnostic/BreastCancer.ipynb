{
  "nbformat": 4,
  "nbformat_minor": 0,
  "metadata": {
    "colab": {
      "provenance": [],
      "collapsed_sections": [
        "6deJehgJErt-",
        "3JS5tCWYGFQC",
        "ggTaoEJNlC7g",
        "s52YUV8dpZj4",
        "AVhOjVzhr2La",
        "n9_1YOgJtiZ0",
        "3gYHSRGVuc9q",
        "yvcVc9rzws1C",
        "EcpbELnWzv_O"
      ]
    },
    "kernelspec": {
      "name": "python3",
      "display_name": "Python 3"
    },
    "language_info": {
      "name": "python"
    }
  },
  "cells": [
    {
      "cell_type": "markdown",
      "source": [
        "## Análise, tratamento e pré-processamento dos dados"
      ],
      "metadata": {
        "id": "Uufd4GJE-GhK"
      }
    },
    {
      "cell_type": "markdown",
      "source": [
        "Link do Kaggle: https://www.kaggle.com/datasets/uciml/breast-cancer-wisconsin-data"
      ],
      "metadata": {
        "id": "Ip65I1kzYh9N"
      }
    },
    {
      "cell_type": "code",
      "execution_count": null,
      "metadata": {
        "id": "mI5tnxSj91t2"
      },
      "outputs": [],
      "source": [
        "import numpy as np\n",
        "import pandas as pd\n",
        "import plotly.express as px\n",
        "from sklearn.model_selection import KFold\n",
        "from sklearn.model_selection import cross_val_score\n",
        "from sklearn.model_selection import train_test_split\n",
        "from sklearn.metrics import accuracy_score, confusion_matrix, classification_report\n",
        "from sklearn.preprocessing import StandardScaler\n",
        "from sklearn.decomposition import PCA\n",
        "from sklearn.naive_bayes import GaussianNB\n",
        "from sklearn.svm import SVC\n",
        "from sklearn.linear_model import LogisticRegression\n",
        "from sklearn.neighbors import KNeighborsClassifier\n",
        "from sklearn.tree import DecisionTreeClassifier\n",
        "from sklearn.ensemble import RandomForestClassifier\n",
        "from xgboost import XGBClassifier\n",
        "import lightgbm as lgb\n",
        "!pip install catboost\n",
        "from catboost import CatBoostClassifier\n",
        "from sklearn.neural_network import MLPClassifier\n",
        "dados = pd.read_csv('/content/drive/MyDrive/CursoML/BreastCancer/data.csv',sep=',', encoding='iso-8859-1')"
      ]
    },
    {
      "cell_type": "code",
      "source": [
        "dados.head()\n",
        "dados.tail()"
      ],
      "metadata": {
        "id": "-DQrMOj8-iAi"
      },
      "execution_count": null,
      "outputs": []
    },
    {
      "cell_type": "code",
      "source": [
        "dados['diagnosis'].value_counts()"
      ],
      "metadata": {
        "id": "A3paiNUB-mGZ"
      },
      "execution_count": null,
      "outputs": []
    },
    {
      "cell_type": "code",
      "source": [
        "px.histogram (dados,x = \"concavity_worst\", nbins=60)"
      ],
      "metadata": {
        "id": "kREXFK0M-1WQ"
      },
      "execution_count": null,
      "outputs": []
    },
    {
      "cell_type": "code",
      "source": [
        "dados.dtypes"
      ],
      "metadata": {
        "id": "kcosWFqi_T1Y"
      },
      "execution_count": null,
      "outputs": []
    },
    {
      "cell_type": "code",
      "source": [
        "dados.isnull().sum()"
      ],
      "metadata": {
        "id": "GMbzZwvo_jBv"
      },
      "execution_count": null,
      "outputs": []
    },
    {
      "cell_type": "code",
      "source": [
        "dados.drop(columns=['id','Unnamed: 32'],inplace=True)"
      ],
      "metadata": {
        "id": "xm02YONvBMJc"
      },
      "execution_count": null,
      "outputs": []
    },
    {
      "cell_type": "code",
      "source": [
        "dados.isnull().sum()"
      ],
      "metadata": {
        "id": "mZP57npDkNRK"
      },
      "execution_count": null,
      "outputs": []
    },
    {
      "cell_type": "code",
      "source": [
        "dados.head()"
      ],
      "metadata": {
        "id": "5VNOHVxpBPpa"
      },
      "execution_count": null,
      "outputs": []
    },
    {
      "cell_type": "code",
      "source": [
        "dados.to_csv('bc_tratado.csv', sep=';', encoding='utf-8', index = False)"
      ],
      "metadata": {
        "id": "Oe023_YDBz8p"
      },
      "execution_count": null,
      "outputs": []
    },
    {
      "cell_type": "code",
      "source": [
        "df = pd.DataFrame.copy(dados)"
      ],
      "metadata": {
        "id": "IWLS0QozBlwo"
      },
      "execution_count": null,
      "outputs": []
    },
    {
      "cell_type": "code",
      "source": [
        "df"
      ],
      "metadata": {
        "id": "I21u0DRfB9yx"
      },
      "execution_count": null,
      "outputs": []
    },
    {
      "cell_type": "code",
      "source": [
        "df['diagnosis'].replace({'B':0, 'M': 1}, inplace=True)"
      ],
      "metadata": {
        "id": "lHV40B0nCHxF"
      },
      "execution_count": null,
      "outputs": []
    },
    {
      "cell_type": "code",
      "source": [
        "df"
      ],
      "metadata": {
        "id": "IprAOeZcCi8e"
      },
      "execution_count": null,
      "outputs": []
    },
    {
      "cell_type": "code",
      "source": [
        "df['diagnosis'].value_counts()"
      ],
      "metadata": {
        "id": "gLr5jcRuCnUS"
      },
      "execution_count": null,
      "outputs": []
    },
    {
      "cell_type": "code",
      "source": [
        "previsores = df.iloc[:, 1:32].values"
      ],
      "metadata": {
        "id": "sv582dwbCu4L"
      },
      "execution_count": null,
      "outputs": []
    },
    {
      "cell_type": "code",
      "source": [
        "alvo = df.iloc[:, 0].values"
      ],
      "metadata": {
        "id": "XqIsOTIeEHRm"
      },
      "execution_count": null,
      "outputs": []
    },
    {
      "cell_type": "code",
      "source": [
        "alvo"
      ],
      "metadata": {
        "id": "WS7G3CGrEKeu"
      },
      "execution_count": null,
      "outputs": []
    },
    {
      "cell_type": "markdown",
      "source": [
        "Escalonando:\n",
        "\n"
      ],
      "metadata": {
        "id": "SBxRmdqeDFkA"
      }
    },
    {
      "cell_type": "code",
      "source": [
        "previsores_esc = StandardScaler().fit_transform(previsores)"
      ],
      "metadata": {
        "id": "oXyKpMg6DMrv"
      },
      "execution_count": null,
      "outputs": []
    },
    {
      "cell_type": "code",
      "source": [
        "previsores_esc"
      ],
      "metadata": {
        "id": "rSM8fZhDDVtr"
      },
      "execution_count": null,
      "outputs": []
    },
    {
      "cell_type": "markdown",
      "source": [],
      "metadata": {
        "id": "F41B_fY4DiYM"
      }
    },
    {
      "cell_type": "markdown",
      "source": [],
      "metadata": {
        "id": "RwwKNRr5Dv3b"
      }
    },
    {
      "cell_type": "code",
      "source": [
        "previsoresdf = pd.DataFrame(previsores_esc)"
      ],
      "metadata": {
        "id": "1IXoTcVqDT1h"
      },
      "execution_count": null,
      "outputs": []
    },
    {
      "cell_type": "markdown",
      "source": [
        "Teste da redução de dimensionalidade:"
      ],
      "metadata": {
        "id": "rg-FQgbfDgaG"
      }
    },
    {
      "cell_type": "code",
      "source": [
        "pca = PCA(n_components=3)"
      ],
      "metadata": {
        "id": "oi21EHNvDkqn"
      },
      "execution_count": null,
      "outputs": []
    },
    {
      "cell_type": "code",
      "source": [
        "previsores_pca = pca.fit_transform(previsores)"
      ],
      "metadata": {
        "id": "bRm8mINlDnGF"
      },
      "execution_count": null,
      "outputs": []
    },
    {
      "cell_type": "code",
      "source": [
        "previsores_pca.shape"
      ],
      "metadata": {
        "id": "VgcmvxWoDoPe"
      },
      "execution_count": null,
      "outputs": []
    },
    {
      "cell_type": "code",
      "source": [
        "pca.explained_variance_ratio_"
      ],
      "metadata": {
        "id": "BX6KTxvTDrmj"
      },
      "execution_count": null,
      "outputs": []
    },
    {
      "cell_type": "markdown",
      "source": [
        "Treino e teste:"
      ],
      "metadata": {
        "id": "iepuXXVsEif1"
      }
    },
    {
      "cell_type": "code",
      "source": [
        "x_treino, x_teste, y_treino, y_teste = train_test_split(previsores_esc, alvo, test_size = 0.3, random_state = 0)"
      ],
      "metadata": {
        "id": "SdxcDd-mD9EB"
      },
      "execution_count": null,
      "outputs": []
    },
    {
      "cell_type": "markdown",
      "source": [],
      "metadata": {
        "id": "Ff5AfgSrEfPk"
      }
    },
    {
      "cell_type": "markdown",
      "source": [
        "## Naive Bayes"
      ],
      "metadata": {
        "id": "6deJehgJErt-"
      }
    },
    {
      "cell_type": "code",
      "source": [
        "naive = GaussianNB()"
      ],
      "metadata": {
        "id": "RJHtf-cuEzWG"
      },
      "execution_count": null,
      "outputs": []
    },
    {
      "cell_type": "code",
      "source": [
        "naive.fit(x_treino, y_treino)"
      ],
      "metadata": {
        "id": "dLWECwtrE1Bn"
      },
      "execution_count": null,
      "outputs": []
    },
    {
      "cell_type": "code",
      "source": [
        "previsoes_naive = naive.predict(x_teste)"
      ],
      "metadata": {
        "id": "TUjK5vogE20m"
      },
      "execution_count": null,
      "outputs": []
    },
    {
      "cell_type": "code",
      "source": [
        "previsoes_naive"
      ],
      "metadata": {
        "id": "KHvw3dQfE6EJ"
      },
      "execution_count": null,
      "outputs": []
    },
    {
      "cell_type": "code",
      "source": [
        "y_teste"
      ],
      "metadata": {
        "id": "vo8AHhDPE7M5"
      },
      "execution_count": null,
      "outputs": []
    },
    {
      "cell_type": "code",
      "source": [
        "print(\"Acurácia do teste: %.2f%%\" % (accuracy_score(y_teste, previsoes_naive) * 100.0))"
      ],
      "metadata": {
        "id": "eWQ_6rOFE_F8"
      },
      "execution_count": null,
      "outputs": []
    },
    {
      "cell_type": "code",
      "source": [
        "confusion_matrix(y_teste, previsoes_naive)"
      ],
      "metadata": {
        "id": "CPO-mfB5FAkS"
      },
      "execution_count": null,
      "outputs": []
    },
    {
      "cell_type": "code",
      "source": [
        "kfold = KFold(n_splits = 30, shuffle=True, random_state = 5)"
      ],
      "metadata": {
        "id": "_TdmfGXOFTL3"
      },
      "execution_count": null,
      "outputs": []
    },
    {
      "cell_type": "code",
      "source": [
        "modelo = GaussianNB()\n",
        "resultado = cross_val_score(modelo, previsores, alvo, cv = kfold)"
      ],
      "metadata": {
        "id": "c9ijlPhDFU8z"
      },
      "execution_count": null,
      "outputs": []
    },
    {
      "cell_type": "code",
      "source": [
        "print(\"Acurácia Média: %.2f%%\" % (resultado.mean() * 100.0))"
      ],
      "metadata": {
        "id": "ot0_wXGlFZPM"
      },
      "execution_count": null,
      "outputs": []
    },
    {
      "cell_type": "markdown",
      "source": [
        "Acurácia média do previsores: 93.82%\n",
        "\n",
        "Acurácia média do previsores_esc: 93.47%"
      ],
      "metadata": {
        "id": "e5BcCqcHFdO5"
      }
    },
    {
      "cell_type": "markdown",
      "source": [
        "## Máquina de Suporte de Vetores (SVM)"
      ],
      "metadata": {
        "id": "3JS5tCWYGFQC"
      }
    },
    {
      "cell_type": "code",
      "source": [
        "svm = SVC(kernel='rbf', random_state=1, C = 2)"
      ],
      "metadata": {
        "id": "hLBSTBUmGLto"
      },
      "execution_count": null,
      "outputs": []
    },
    {
      "cell_type": "code",
      "source": [
        "svm.fit(x_treino, y_treino)"
      ],
      "metadata": {
        "id": "R_MNGPrRGNUM"
      },
      "execution_count": null,
      "outputs": []
    },
    {
      "cell_type": "code",
      "source": [
        "previsoes_svm = svm.predict(x_teste)"
      ],
      "metadata": {
        "id": "_HJ4KuvhGO3g"
      },
      "execution_count": null,
      "outputs": []
    },
    {
      "cell_type": "code",
      "source": [
        "previsoes_svm"
      ],
      "metadata": {
        "id": "jX9K-poEGRwE"
      },
      "execution_count": null,
      "outputs": []
    },
    {
      "cell_type": "code",
      "source": [
        "y_teste"
      ],
      "metadata": {
        "id": "dcWGHcj6GTfN"
      },
      "execution_count": null,
      "outputs": []
    },
    {
      "cell_type": "code",
      "source": [
        "print(\"Acurácia do teste: %.2f%%\" % (accuracy_score(y_teste, previsoes_svm) * 100.0))"
      ],
      "metadata": {
        "id": "fALA8m9LGYHr"
      },
      "execution_count": null,
      "outputs": []
    },
    {
      "cell_type": "code",
      "source": [
        "confusion_matrix(y_teste, previsoes_svm)"
      ],
      "metadata": {
        "id": "Y0HDQS45GZlZ"
      },
      "execution_count": null,
      "outputs": []
    },
    {
      "cell_type": "code",
      "source": [
        "print(classification_report(y_teste, previsoes_svm))"
      ],
      "metadata": {
        "id": "yk2Bo_KmNMX9"
      },
      "execution_count": null,
      "outputs": []
    },
    {
      "cell_type": "code",
      "source": [
        "previsoes_treino = svm.predict(x_treino)"
      ],
      "metadata": {
        "id": "oUeEhi97NNq0"
      },
      "execution_count": null,
      "outputs": []
    },
    {
      "cell_type": "code",
      "source": [
        "previsoes_treino"
      ],
      "metadata": {
        "id": "cChocEc6NP44"
      },
      "execution_count": null,
      "outputs": []
    },
    {
      "cell_type": "code",
      "source": [
        "accuracy_score(y_treino, previsoes_treino)"
      ],
      "metadata": {
        "id": "IV1sYHAQNRgF"
      },
      "execution_count": null,
      "outputs": []
    },
    {
      "cell_type": "code",
      "source": [
        "confusion_matrix(y_treino, previsoes_treino)"
      ],
      "metadata": {
        "id": "sC_gblxBNT0O"
      },
      "execution_count": null,
      "outputs": []
    },
    {
      "cell_type": "code",
      "source": [
        "modelo = SVC(kernel='rbf', random_state=1, C = 2)\n",
        "resultado = cross_val_score(modelo, previsores_esc, alvo, cv = kfold)"
      ],
      "metadata": {
        "id": "0a_PZPb8Ngct"
      },
      "execution_count": null,
      "outputs": []
    },
    {
      "cell_type": "code",
      "source": [
        "print(\"Acurácia Média: %.2f%%\" % (resultado.mean() * 100.0))"
      ],
      "metadata": {
        "id": "fCOm6qOWNjE4"
      },
      "execution_count": null,
      "outputs": []
    },
    {
      "cell_type": "markdown",
      "source": [
        "Acurácia média do previsores: 91.72%\n",
        "\n",
        "Acurácia média do previsores_esc: 97.88%"
      ],
      "metadata": {
        "id": "MFXlObEakzJe"
      }
    },
    {
      "cell_type": "markdown",
      "source": [
        "## Regressão Logística"
      ],
      "metadata": {
        "id": "ggTaoEJNlC7g"
      }
    },
    {
      "cell_type": "code",
      "source": [
        "logistica = LogisticRegression(random_state=1, max_iter=500, penalty=\"l2\",tol=0.0001, C=1,solver=\"lbfgs\")"
      ],
      "metadata": {
        "id": "K5EqoK9flQwJ"
      },
      "execution_count": null,
      "outputs": []
    },
    {
      "cell_type": "code",
      "source": [
        "logistica.fit(x_treino, y_treino)"
      ],
      "metadata": {
        "id": "E-linR5llTkX"
      },
      "execution_count": null,
      "outputs": []
    },
    {
      "cell_type": "code",
      "source": [
        "previsoes_logistica = logistica.predict(x_teste)\n",
        "previsoes_logistica"
      ],
      "metadata": {
        "id": "84fbW4Fqlf7f"
      },
      "execution_count": null,
      "outputs": []
    },
    {
      "cell_type": "code",
      "source": [
        "y_teste"
      ],
      "metadata": {
        "id": "anSfj6rHlwVk"
      },
      "execution_count": null,
      "outputs": []
    },
    {
      "cell_type": "code",
      "source": [
        "print(\"Acurácia do teste: %.2f%%\" % (accuracy_score(y_teste, previsoes_logistica) * 100.0))"
      ],
      "metadata": {
        "id": "3PTWFhFplzNp"
      },
      "execution_count": null,
      "outputs": []
    },
    {
      "cell_type": "code",
      "source": [
        "confusion_matrix(y_teste, previsoes_logistica)"
      ],
      "metadata": {
        "id": "DaIBubmql2Gd"
      },
      "execution_count": null,
      "outputs": []
    },
    {
      "cell_type": "code",
      "source": [
        "print(classification_report(y_teste, previsoes_logistica))"
      ],
      "metadata": {
        "id": "35X5KYXml3lk"
      },
      "execution_count": null,
      "outputs": []
    },
    {
      "cell_type": "code",
      "source": [
        "previsoes_treino = logistica.predict(x_treino)\n",
        "previsoes_treino"
      ],
      "metadata": {
        "id": "UH3YIFFbl7yP"
      },
      "execution_count": null,
      "outputs": []
    },
    {
      "cell_type": "code",
      "source": [
        "accuracy_score(y_treino, previsoes_treino)"
      ],
      "metadata": {
        "id": "5AZQHSZRmA8u"
      },
      "execution_count": null,
      "outputs": []
    },
    {
      "cell_type": "code",
      "source": [
        "confusion_matrix(y_treino, previsoes_treino)"
      ],
      "metadata": {
        "id": "PXjAio8tmDtc"
      },
      "execution_count": null,
      "outputs": []
    },
    {
      "cell_type": "code",
      "source": [
        "modelo = LogisticRegression(random_state=1, max_iter=600, penalty=\"l2\",tol=0.0001, C=1,solver=\"lbfgs\")"
      ],
      "metadata": {
        "id": "ZedxHyaxmNUd"
      },
      "execution_count": null,
      "outputs": []
    },
    {
      "cell_type": "code",
      "source": [
        "resultado = cross_val_score(modelo, previsores_esc, alvo, cv = kfold)"
      ],
      "metadata": {
        "id": "us0xUwO_mVe5"
      },
      "execution_count": null,
      "outputs": []
    },
    {
      "cell_type": "code",
      "source": [
        "print(\"Acurácia Média: %.2f%%\" % (resultado.mean() * 100.0))"
      ],
      "metadata": {
        "id": "8dLHtI3EmT7u"
      },
      "execution_count": null,
      "outputs": []
    },
    {
      "cell_type": "markdown",
      "source": [
        "Acurácia média do previsores: 94.71%\n",
        "\n",
        "Acurácia média do previsores_esc: 98.06%"
      ],
      "metadata": {
        "id": "yvUkgAvjmYuV"
      }
    },
    {
      "cell_type": "markdown",
      "source": [
        "## Aprendizagem Baseada em Instâncias (KNN)"
      ],
      "metadata": {
        "id": "s52YUV8dpZj4"
      }
    },
    {
      "cell_type": "code",
      "source": [
        "knn = KNeighborsClassifier(n_neighbors=7, metric='minkowski', p=1)\n",
        "knn.fit(x_treino, y_treino)"
      ],
      "metadata": {
        "id": "4w3cMJL-qLPy"
      },
      "execution_count": null,
      "outputs": []
    },
    {
      "cell_type": "code",
      "source": [
        "previsoes_knn = knn.predict(x_teste)\n",
        "previsoes_knn"
      ],
      "metadata": {
        "id": "ue01qaKBqQH-"
      },
      "execution_count": null,
      "outputs": []
    },
    {
      "cell_type": "code",
      "source": [
        "y_teste"
      ],
      "metadata": {
        "id": "aX8I-0o0qSD6"
      },
      "execution_count": null,
      "outputs": []
    },
    {
      "cell_type": "code",
      "source": [
        "print(\"Acurácia do teste: %.2f%%\" % (accuracy_score(y_teste, previsoes_knn) * 100.0))"
      ],
      "metadata": {
        "id": "EzITLbWEqViR"
      },
      "execution_count": null,
      "outputs": []
    },
    {
      "cell_type": "code",
      "source": [
        "confusion_matrix(y_teste, previsoes_knn)"
      ],
      "metadata": {
        "id": "xn-jqKb0qXW3"
      },
      "execution_count": null,
      "outputs": []
    },
    {
      "cell_type": "code",
      "source": [
        "print(classification_report(y_teste, previsoes_knn))"
      ],
      "metadata": {
        "id": "S2R_Z-QhqboN"
      },
      "execution_count": null,
      "outputs": []
    },
    {
      "cell_type": "code",
      "source": [
        "previsoes_knn = knn.predict(x_treino)\n",
        "previsoes_knn"
      ],
      "metadata": {
        "id": "2GIH2V0qqfXa"
      },
      "execution_count": null,
      "outputs": []
    },
    {
      "cell_type": "code",
      "source": [
        "accuracy_score(y_treino, previsoes_knn)"
      ],
      "metadata": {
        "id": "i2bblGb7qh-j"
      },
      "execution_count": null,
      "outputs": []
    },
    {
      "cell_type": "code",
      "source": [
        "confusion_matrix(y_treino, previsoes_knn)"
      ],
      "metadata": {
        "id": "YQGfWAj3qreI"
      },
      "execution_count": null,
      "outputs": []
    },
    {
      "cell_type": "code",
      "source": [
        "modelo = KNeighborsClassifier(n_neighbors=7, metric='minkowski', p = 1)"
      ],
      "metadata": {
        "id": "EGq55kHxrecq"
      },
      "execution_count": null,
      "outputs": []
    },
    {
      "cell_type": "code",
      "source": [
        "resultado = cross_val_score(modelo, previsores, alvo, cv = kfold)"
      ],
      "metadata": {
        "id": "RznqhkYSrjYW"
      },
      "execution_count": null,
      "outputs": []
    },
    {
      "cell_type": "code",
      "source": [
        "print(\"Acurácia Média: %.2f%%\" % (resultado.mean() * 100.0))"
      ],
      "metadata": {
        "id": "dtBsNCa4rnyB"
      },
      "execution_count": null,
      "outputs": []
    },
    {
      "cell_type": "markdown",
      "source": [
        "Acurácia Média do previsores: 93.13%\n",
        "\n",
        "Acurácia Média do previsores_esc: 96.65%"
      ],
      "metadata": {
        "id": "i4X5sVdpro2T"
      }
    },
    {
      "cell_type": "markdown",
      "source": [
        "## Árvore de Decisão"
      ],
      "metadata": {
        "id": "AVhOjVzhr2La"
      }
    },
    {
      "cell_type": "code",
      "source": [
        "arvore = DecisionTreeClassifier(criterion='entropy', random_state = 0, max_depth=3)"
      ],
      "metadata": {
        "id": "yzg40pXssLfc"
      },
      "execution_count": null,
      "outputs": []
    },
    {
      "cell_type": "code",
      "source": [
        "arvore.fit(x_treino, y_treino)"
      ],
      "metadata": {
        "id": "Nptzb1SlsOKg"
      },
      "execution_count": null,
      "outputs": []
    },
    {
      "cell_type": "code",
      "source": [
        "previsoes_arvore = arvore.predict(x_teste)"
      ],
      "metadata": {
        "id": "CgwegAIhsPTa"
      },
      "execution_count": null,
      "outputs": []
    },
    {
      "cell_type": "code",
      "source": [
        "previsoes_arvore"
      ],
      "metadata": {
        "id": "X21YrERRsSDT"
      },
      "execution_count": null,
      "outputs": []
    },
    {
      "cell_type": "code",
      "source": [
        "y_teste"
      ],
      "metadata": {
        "id": "TTC_erS7sTdB"
      },
      "execution_count": null,
      "outputs": []
    },
    {
      "cell_type": "code",
      "source": [
        "print(\"Acurácia do teste: %.2f%%\" % (accuracy_score(y_teste, previsoes_arvore) * 100.0))"
      ],
      "metadata": {
        "id": "ZAKbpS0nsVbd"
      },
      "execution_count": null,
      "outputs": []
    },
    {
      "cell_type": "code",
      "source": [
        "confusion_matrix(y_teste, previsoes_arvore)"
      ],
      "metadata": {
        "id": "pZDzt3IYsaBE"
      },
      "execution_count": null,
      "outputs": []
    },
    {
      "cell_type": "code",
      "source": [
        "print(classification_report(y_teste, previsoes_arvore))"
      ],
      "metadata": {
        "id": "MBCnnDFMsclZ"
      },
      "execution_count": null,
      "outputs": []
    },
    {
      "cell_type": "code",
      "source": [
        "previsoes_treino = arvore.predict(x_treino)"
      ],
      "metadata": {
        "id": "uhjbtG1jsegD"
      },
      "execution_count": null,
      "outputs": []
    },
    {
      "cell_type": "code",
      "source": [
        "print(\"Acurácia do treino: %.2f%%\" % (accuracy_score(y_treino, previsoes_treino) * 100.0))"
      ],
      "metadata": {
        "id": "HcJ5SE__skqS"
      },
      "execution_count": null,
      "outputs": []
    },
    {
      "cell_type": "code",
      "source": [
        "confusion_matrix(y_treino, previsoes_treino)"
      ],
      "metadata": {
        "id": "dD8CbthrstyS"
      },
      "execution_count": null,
      "outputs": []
    },
    {
      "cell_type": "code",
      "source": [
        "modelo = DecisionTreeClassifier(criterion='entropy', random_state = 0, max_depth=3)"
      ],
      "metadata": {
        "id": "E0X5vY6Js3vS"
      },
      "execution_count": null,
      "outputs": []
    },
    {
      "cell_type": "code",
      "source": [
        "resultado = cross_val_score(modelo, previsores_esc, alvo, cv = kfold)"
      ],
      "metadata": {
        "id": "GF7wYEtBs5xX"
      },
      "execution_count": null,
      "outputs": []
    },
    {
      "cell_type": "code",
      "source": [
        "print(\"Acurácia Média: %.2f%%\" % (resultado.mean() * 100.0))"
      ],
      "metadata": {
        "id": "BJQNwPjds-BI"
      },
      "execution_count": null,
      "outputs": []
    },
    {
      "cell_type": "markdown",
      "source": [
        "Acurácia Média do previsores: 93.67%\n",
        "\n",
        "Acurácia Média do previsores_esc: 93.67% (Mesmo resultado)"
      ],
      "metadata": {
        "id": "j8Eu2dHntC6n"
      }
    },
    {
      "cell_type": "markdown",
      "source": [
        "## Random Forest"
      ],
      "metadata": {
        "id": "n9_1YOgJtiZ0"
      }
    },
    {
      "cell_type": "code",
      "source": [
        "random = RandomForestClassifier(n_estimators=150, criterion='entropy', random_state = 0, max_depth=4)\n",
        "random.fit(x_treino, y_treino)"
      ],
      "metadata": {
        "id": "kbR4-V7WtqwE"
      },
      "execution_count": null,
      "outputs": []
    },
    {
      "cell_type": "code",
      "source": [
        "previsoes_random = random.predict(x_teste)\n",
        "previsoes_random"
      ],
      "metadata": {
        "id": "ilcr8ZMbttgE"
      },
      "execution_count": null,
      "outputs": []
    },
    {
      "cell_type": "code",
      "source": [
        "y_teste"
      ],
      "metadata": {
        "id": "xbugpT3YtwSI"
      },
      "execution_count": null,
      "outputs": []
    },
    {
      "cell_type": "code",
      "source": [
        "print(\"Acurácia do teste: %.2f%%\" % (accuracy_score(y_teste, previsoes_random) * 100.0))"
      ],
      "metadata": {
        "id": "UCDIUKX7tyMq"
      },
      "execution_count": null,
      "outputs": []
    },
    {
      "cell_type": "code",
      "source": [
        "confusion_matrix(y_teste, previsoes_random)"
      ],
      "metadata": {
        "id": "qcwQQ0ttt5Wa"
      },
      "execution_count": null,
      "outputs": []
    },
    {
      "cell_type": "code",
      "source": [
        "print(classification_report(y_teste, previsoes_random))"
      ],
      "metadata": {
        "id": "kLj-Ia3ct68S"
      },
      "execution_count": null,
      "outputs": []
    },
    {
      "cell_type": "code",
      "source": [
        "previsores_treino = random.predict(x_treino)"
      ],
      "metadata": {
        "id": "fh_2hYhIt9Ee"
      },
      "execution_count": null,
      "outputs": []
    },
    {
      "cell_type": "code",
      "source": [
        "print(\"Acurácia do treino: %.2f%%\" % (accuracy_score(y_treino, previsoes_treino) * 100.0))"
      ],
      "metadata": {
        "id": "dkJ3XoPhuAW6"
      },
      "execution_count": null,
      "outputs": []
    },
    {
      "cell_type": "code",
      "source": [
        "confusion_matrix(y_treino, previsoes_treino)"
      ],
      "metadata": {
        "id": "JbpIlivPuEfM"
      },
      "execution_count": null,
      "outputs": []
    },
    {
      "cell_type": "code",
      "source": [
        "modelo = RandomForestClassifier(n_estimators=150, criterion='entropy', random_state = 0, max_depth=4)"
      ],
      "metadata": {
        "id": "v1-HwEbwuLaf"
      },
      "execution_count": null,
      "outputs": []
    },
    {
      "cell_type": "code",
      "source": [
        "resultado = cross_val_score(modelo, previsores_esc, alvo, cv = kfold)"
      ],
      "metadata": {
        "id": "j-xtxn83uMVn"
      },
      "execution_count": null,
      "outputs": []
    },
    {
      "cell_type": "code",
      "source": [
        "print(\"Acurácia Média: %.2f%%\" % (resultado.mean() * 100.0))"
      ],
      "metadata": {
        "id": "g0jr3Y-QuQNq"
      },
      "execution_count": null,
      "outputs": []
    },
    {
      "cell_type": "markdown",
      "source": [
        "Acurácia Média de previsores: 95.76%\n",
        "\n",
        "Acurácia Média de previsores_esc: 95.76%\n"
      ],
      "metadata": {
        "id": "h90_EnYruRLv"
      }
    },
    {
      "cell_type": "markdown",
      "source": [
        "## XGBoost"
      ],
      "metadata": {
        "id": "3gYHSRGVuc9q"
      }
    },
    {
      "cell_type": "code",
      "source": [
        "xg = XGBClassifier(max_depth=2, learning_rate=0.05, n_estimators=250, objective='binary:logistic', random_state=3)"
      ],
      "metadata": {
        "id": "h2Zob8oZukgm"
      },
      "execution_count": null,
      "outputs": []
    },
    {
      "cell_type": "code",
      "source": [
        "xg.fit(x_treino,y_treino)"
      ],
      "metadata": {
        "id": "lgNcwtvYunMA"
      },
      "execution_count": null,
      "outputs": []
    },
    {
      "cell_type": "code",
      "source": [
        "previsoes_xg = xg.predict(x_teste)"
      ],
      "metadata": {
        "id": "V8UWjaemu9qL"
      },
      "execution_count": null,
      "outputs": []
    },
    {
      "cell_type": "code",
      "source": [
        "previsoes_xg"
      ],
      "metadata": {
        "id": "w8xn5d9uu-jF"
      },
      "execution_count": null,
      "outputs": []
    },
    {
      "cell_type": "code",
      "source": [
        "print(\"Acurácia do teste: %.2f%%\" % (accuracy_score(y_teste, previsoes_xg) * 100.0))"
      ],
      "metadata": {
        "id": "vRpJq7p2vhIq"
      },
      "execution_count": null,
      "outputs": []
    },
    {
      "cell_type": "code",
      "source": [
        "confusion_matrix(y_teste, previsoes_xg)"
      ],
      "metadata": {
        "id": "iQtPsy-Mv0Ax"
      },
      "execution_count": null,
      "outputs": []
    },
    {
      "cell_type": "code",
      "source": [
        "print(classification_report(y_teste, previsoes_xg))"
      ],
      "metadata": {
        "id": "ZgddJyJ7vm0B"
      },
      "execution_count": null,
      "outputs": []
    },
    {
      "cell_type": "code",
      "source": [
        "previsoes_treino = xg.predict(x_treino)\n",
        "previsoes_treino"
      ],
      "metadata": {
        "id": "zoUyNk_4v6pf"
      },
      "execution_count": null,
      "outputs": []
    },
    {
      "cell_type": "code",
      "source": [
        "y_treino"
      ],
      "metadata": {
        "id": "sXlZhaZSwQOF"
      },
      "execution_count": null,
      "outputs": []
    },
    {
      "cell_type": "code",
      "source": [
        "print(\"Acurácia do treino: %.2f%%\" % (accuracy_score(y_treino, previsoes_treino) * 100.0))"
      ],
      "metadata": {
        "id": "-P4PP3bowJxL"
      },
      "execution_count": null,
      "outputs": []
    },
    {
      "cell_type": "code",
      "source": [
        "modelo = XGBClassifier(max_depth=2, learning_rate=0.05, n_estimators=250, objective='binary:logistic', random_state=3)"
      ],
      "metadata": {
        "id": "A4sIVPFKwPS5"
      },
      "execution_count": null,
      "outputs": []
    },
    {
      "cell_type": "code",
      "source": [
        "resultado = cross_val_score(modelo, previsores_esc, alvo, cv = kfold)"
      ],
      "metadata": {
        "id": "14-cW_b7wZK-"
      },
      "execution_count": null,
      "outputs": []
    },
    {
      "cell_type": "code",
      "source": [
        "print(\"Acurácia Média: %.2f%%\" % (resultado.mean() * 100.0))"
      ],
      "metadata": {
        "id": "tF5AcbTbwbEk"
      },
      "execution_count": null,
      "outputs": []
    },
    {
      "cell_type": "markdown",
      "source": [
        "Acurácia Média do previsores: 96.65%\n",
        "\n",
        "Acurácia Média do previsores_esc: 96.65%"
      ],
      "metadata": {
        "id": "cXlyo2nCwdg8"
      }
    },
    {
      "cell_type": "markdown",
      "source": [
        "## LightBGM"
      ],
      "metadata": {
        "id": "yvcVc9rzws1C"
      }
    },
    {
      "cell_type": "code",
      "source": [
        "!pip install lightgbm"
      ],
      "metadata": {
        "id": "U2ufKUsHwzrh"
      },
      "execution_count": null,
      "outputs": []
    },
    {
      "cell_type": "code",
      "source": [
        "dataset = lgb.Dataset(x_treino,label=y_treino)"
      ],
      "metadata": {
        "id": "YXatgMi4w5N-"
      },
      "execution_count": null,
      "outputs": []
    },
    {
      "cell_type": "code",
      "source": [
        "parametros = {'num_leaves':30,'objective':'binary','max_depth':3,'learning_rate':.1,'max_bin':50}"
      ],
      "metadata": {
        "id": "I3HWtGdFw49p"
      },
      "execution_count": null,
      "outputs": []
    },
    {
      "cell_type": "code",
      "source": [
        "lgbm=lgb.train(parametros,dataset,num_boost_round=200)"
      ],
      "metadata": {
        "id": "7dcXXfGaxCeg"
      },
      "execution_count": null,
      "outputs": []
    },
    {
      "cell_type": "code",
      "source": [
        "previsoes_lgbm = lgbm.predict(x_teste)\n",
        "previsoes_lgbm"
      ],
      "metadata": {
        "id": "Gxc049EuyZ46"
      },
      "execution_count": null,
      "outputs": []
    },
    {
      "cell_type": "code",
      "source": [
        "for i in range(0, 171):\n",
        "    if previsoes_lgbm[i] >= .5:\n",
        "       previsoes_lgbm[i] = 1\n",
        "    else:\n",
        "       previsoes_lgbm[i] = 0"
      ],
      "metadata": {
        "id": "YdtokC-9yf-7"
      },
      "execution_count": null,
      "outputs": []
    },
    {
      "cell_type": "code",
      "source": [
        "previsoes_lgbm"
      ],
      "metadata": {
        "id": "I6QwXVrSyjvH"
      },
      "execution_count": null,
      "outputs": []
    },
    {
      "cell_type": "code",
      "source": [
        "y_teste"
      ],
      "metadata": {
        "id": "OhA6N0h5yow9"
      },
      "execution_count": null,
      "outputs": []
    },
    {
      "cell_type": "code",
      "source": [
        "print(\"Acurácia: %.2f%%\" % (accuracy_score(y_teste, previsoes_lgbm) * 100.0))"
      ],
      "metadata": {
        "id": "NGI-KCYByupD"
      },
      "execution_count": null,
      "outputs": []
    },
    {
      "cell_type": "code",
      "source": [
        "confusion_matrix(y_teste, previsoes_lgbm)"
      ],
      "metadata": {
        "id": "quFO7GGLyvet"
      },
      "execution_count": null,
      "outputs": []
    },
    {
      "cell_type": "code",
      "source": [
        "previsoes_treino = lgbm.predict(x_treino)\n",
        "previsoes_treino"
      ],
      "metadata": {
        "id": "YyqhUY-Pyz3u"
      },
      "execution_count": null,
      "outputs": []
    },
    {
      "cell_type": "code",
      "source": [
        "for i in range(0, 398):\n",
        "    if previsoes_treino[i] >= .5:\n",
        "       previsoes_treino[i] = 1\n",
        "    else:\n",
        "       previsoes_treino[i] = 0"
      ],
      "metadata": {
        "id": "oBpmcCIsy3nY"
      },
      "execution_count": null,
      "outputs": []
    },
    {
      "cell_type": "code",
      "source": [
        "previsoes_treino"
      ],
      "metadata": {
        "id": "7zp1scZGzFDL"
      },
      "execution_count": null,
      "outputs": []
    },
    {
      "cell_type": "code",
      "source": [
        "print(\"Acurácia do treino: %.2f%%\" % (accuracy_score(y_treino, previsoes_treino) * 100.0))"
      ],
      "metadata": {
        "id": "ojO3GB6OzIFW"
      },
      "execution_count": null,
      "outputs": []
    },
    {
      "cell_type": "code",
      "source": [
        "confusion_matrix(y_treino, previsoes_treino)"
      ],
      "metadata": {
        "id": "TeVsVysBzKAa"
      },
      "execution_count": null,
      "outputs": []
    },
    {
      "cell_type": "code",
      "source": [
        "modelo = lgb.LGBMClassifier(num_leaves = 100, objective = 'binary',max_depth = 3, learning_rate = .1, max_bin =50)"
      ],
      "metadata": {
        "id": "073huGJKzQLQ"
      },
      "execution_count": null,
      "outputs": []
    },
    {
      "cell_type": "code",
      "source": [
        "resultado = cross_val_score(modelo, previsores_esc, alvo, cv = kfold)"
      ],
      "metadata": {
        "id": "DrS9X3PDzTne"
      },
      "execution_count": null,
      "outputs": []
    },
    {
      "cell_type": "code",
      "source": [
        "print(\"Acurácia Média: %.2f%%\" % (resultado.mean() * 100.0))"
      ],
      "metadata": {
        "id": "f4Hh7jskzXje"
      },
      "execution_count": null,
      "outputs": []
    },
    {
      "cell_type": "markdown",
      "source": [
        "Acurácia Média do previsores: 96.11%\n",
        "\n",
        "Acurácia Média do previsores_esc: 97.52%"
      ],
      "metadata": {
        "id": "SRvl_dPqzjcc"
      }
    },
    {
      "cell_type": "markdown",
      "source": [
        "## Catboost"
      ],
      "metadata": {
        "id": "EcpbELnWzv_O"
      }
    },
    {
      "cell_type": "code",
      "source": [
        "df"
      ],
      "metadata": {
        "id": "O1mAwGwSz4IS"
      },
      "execution_count": null,
      "outputs": []
    },
    {
      "cell_type": "code",
      "source": [
        "previsores2 = df.iloc[:, 1:32]"
      ],
      "metadata": {
        "id": "_ntCI7ewz23o"
      },
      "execution_count": null,
      "outputs": []
    },
    {
      "cell_type": "code",
      "source": [
        "alvo2 = df.iloc[:, 0]"
      ],
      "metadata": {
        "id": "YNCnoHqA0EgO"
      },
      "execution_count": null,
      "outputs": []
    },
    {
      "cell_type": "code",
      "source": [
        "x_treino, x_teste, y_treino, y_teste = train_test_split(previsores2, alvo2, test_size = 0.3, random_state = 0)"
      ],
      "metadata": {
        "id": "WY77mwuJ0NkV"
      },
      "execution_count": null,
      "outputs": []
    },
    {
      "cell_type": "code",
      "source": [
        "catboost = CatBoostClassifier(task_type='CPU', iterations=100, learning_rate=0.1, depth = 8, random_state = 5,eval_metric=\"Accuracy\")"
      ],
      "metadata": {
        "id": "6eUMJIO80Pev"
      },
      "execution_count": null,
      "outputs": []
    },
    {
      "cell_type": "code",
      "source": [
        "catboost.fit( x_treino, y_treino, plot=True, eval_set=(x_teste, y_teste))"
      ],
      "metadata": {
        "id": "qvfmpVux0WVI"
      },
      "execution_count": null,
      "outputs": []
    },
    {
      "cell_type": "code",
      "source": [
        "previsoes_cat = catboost.predict(x_teste)\n",
        "previsoes_cat"
      ],
      "metadata": {
        "id": "MIJVraLTUChZ"
      },
      "execution_count": null,
      "outputs": []
    },
    {
      "cell_type": "code",
      "source": [
        "y_teste"
      ],
      "metadata": {
        "id": "IS1Mwt2p0dQA"
      },
      "execution_count": null,
      "outputs": []
    },
    {
      "cell_type": "code",
      "source": [
        "print(\"Acurácia do teste: %.2f%%\" % (accuracy_score(y_teste, previsoes_cat) * 100.0))"
      ],
      "metadata": {
        "id": "liBRtxQw0oFL"
      },
      "execution_count": null,
      "outputs": []
    },
    {
      "cell_type": "code",
      "source": [
        "confusion_matrix(y_teste, previsoes_cat)"
      ],
      "metadata": {
        "id": "8RQg-rNU0sbW"
      },
      "execution_count": null,
      "outputs": []
    },
    {
      "cell_type": "code",
      "source": [
        "previsoes_treino = catboost.predict(x_treino)\n",
        "previsoes_treino"
      ],
      "metadata": {
        "id": "vZBcOMYY0u1E"
      },
      "execution_count": null,
      "outputs": []
    },
    {
      "cell_type": "code",
      "source": [
        "accuracy_score(y_treino, previsoes_treino)"
      ],
      "metadata": {
        "id": "4wwLqA3H0w6i"
      },
      "execution_count": null,
      "outputs": []
    },
    {
      "cell_type": "code",
      "source": [
        "confusion_matrix(y_treino, previsoes_treino)"
      ],
      "metadata": {
        "id": "Oh06bx0IUChd"
      },
      "execution_count": null,
      "outputs": []
    },
    {
      "cell_type": "code",
      "source": [
        "modelo = CatBoostClassifier(task_type='CPU', iterations= 200, learning_rate=0.1, depth = 8, random_state = 5,eval_metric=\"Accuracy\")"
      ],
      "metadata": {
        "id": "QiNIh-GA01P0"
      },
      "execution_count": null,
      "outputs": []
    },
    {
      "cell_type": "code",
      "source": [
        "resultado = cross_val_score(modelo, previsores_esc, alvo, cv = kfold)"
      ],
      "metadata": {
        "id": "UXImoREB08UQ"
      },
      "execution_count": null,
      "outputs": []
    },
    {
      "cell_type": "code",
      "source": [
        "print(\"Acurácia Média: %.2f%%\" % (resultado.mean() * 100.0))"
      ],
      "metadata": {
        "id": "diHltPGh1PJG"
      },
      "execution_count": null,
      "outputs": []
    },
    {
      "cell_type": "markdown",
      "source": [
        "## Redes Neurais"
      ],
      "metadata": {
        "id": "D7nkmlrGpCQl"
      }
    },
    {
      "cell_type": "code",
      "source": [
        "from sklearn.neural_network import MLPClassifier"
      ],
      "metadata": {
        "id": "Tap5WxF4pCwJ"
      },
      "execution_count": null,
      "outputs": []
    },
    {
      "cell_type": "code",
      "source": [
        "redes = MLPClassifier(hidden_layer_sizes=(7), activation='relu', solver='lbfgs', max_iter =800,\n",
        "tol=0.0001, random_state = 3, verbose = True)"
      ],
      "metadata": {
        "id": "-Drfbq03pHzY"
      },
      "execution_count": null,
      "outputs": []
    },
    {
      "cell_type": "code",
      "source": [
        "redes.fit(x_treino, y_treino)"
      ],
      "metadata": {
        "id": "1ZkjBFcSpLjX"
      },
      "execution_count": null,
      "outputs": []
    },
    {
      "cell_type": "code",
      "source": [
        "previsoes = redes.predict(x_teste)\n",
        "previsoes"
      ],
      "metadata": {
        "id": "mQlZsH8OpOQC"
      },
      "execution_count": null,
      "outputs": []
    },
    {
      "cell_type": "code",
      "source": [
        "print(\"Acurácia: %.2f%%\" % (accuracy_score(y_teste, previsoes) * 100.0))"
      ],
      "metadata": {
        "id": "8p-BKifkpTNG"
      },
      "execution_count": null,
      "outputs": []
    },
    {
      "cell_type": "code",
      "source": [
        "confusion_matrix(y_teste, previsoes)"
      ],
      "metadata": {
        "id": "FqMs9jc1pVSY"
      },
      "execution_count": null,
      "outputs": []
    },
    {
      "cell_type": "code",
      "source": [
        "print(classification_report(y_teste, previsoes))"
      ],
      "metadata": {
        "id": "kMgeeSrxpWzV"
      },
      "execution_count": null,
      "outputs": []
    },
    {
      "cell_type": "code",
      "source": [
        "previsoes_treino = redes.predict(x_treino)\n",
        "previsoes_treino"
      ],
      "metadata": {
        "id": "wAlaqLcBqApT"
      },
      "execution_count": null,
      "outputs": []
    },
    {
      "cell_type": "code",
      "source": [
        "accuracy_score(y_treino, previsoes_treino)"
      ],
      "metadata": {
        "id": "IIR9sFYpqGUS"
      },
      "execution_count": null,
      "outputs": []
    },
    {
      "cell_type": "code",
      "source": [
        "confusion_matrix(y_treino, previsoes_treino)"
      ],
      "metadata": {
        "id": "xaDP4RjnqILZ"
      },
      "execution_count": null,
      "outputs": []
    },
    {
      "cell_type": "code",
      "source": [
        "kfold = KFold(n_splits = 30, shuffle=True, random_state = 5)"
      ],
      "metadata": {
        "id": "lgD5rCEDqKnL"
      },
      "execution_count": null,
      "outputs": []
    },
    {
      "cell_type": "code",
      "source": [
        "modelo = MLPClassifier(hidden_layer_sizes=(7), activation='relu', solver='adam', max_iter =8000,\n",
        "                              tol=0.0001, random_state = 3, verbose = True)\n",
        "resultado = cross_val_score(modelo, previsores_esc, alvo, cv = kfold)\n",
        "print(\"Acurácia Média: %.2f%%\" % (resultado.mean() * 100.0))"
      ],
      "metadata": {
        "id": "87SJvfuEqMHQ"
      },
      "execution_count": null,
      "outputs": []
    },
    {
      "cell_type": "markdown",
      "source": [
        "## Resultados"
      ],
      "metadata": {
        "id": "wvHGRpcP1Q9h"
      }
    },
    {
      "cell_type": "markdown",
      "source": [
        "Naive Bayes: 93.82% (Sem escalonamento)\n",
        "\n",
        "SVM: 97.88% (Escalonado)\n",
        "\n",
        "**Regressão Logística: 98.06% (Escalonado)**\n",
        "\n",
        "KNN: 96.65% (Escalonado)\n",
        "\n",
        "Árvore de decisão: 93.67%\n",
        "\n",
        "Random Forest: 95.76%\n",
        "\n",
        "XGBoost: 96.65%\n",
        "\n",
        "LightGBM: 97.52% (Escalonado)\n",
        "\n",
        "Catboost: 97.16%\n",
        "\n",
        "Redes Neurais: 97.17%\n"
      ],
      "metadata": {
        "id": "3JVT-8sv1Suj"
      }
    }
  ]
}