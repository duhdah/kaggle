{
  "nbformat": 4,
  "nbformat_minor": 0,
  "metadata": {
    "colab": {
      "provenance": []
    },
    "kernelspec": {
      "name": "python3",
      "display_name": "Python 3"
    },
    "language_info": {
      "name": "python"
    }
  },
  "cells": [
    {
      "cell_type": "markdown",
      "source": [
        "## Insurance Forecast\n",
        "\n"
      ],
      "metadata": {
        "id": "mPRPZCWrk210"
      }
    },
    {
      "cell_type": "markdown",
      "source": [
        "**Proposta:** Utilizar algoritmos de aprendizado supervisionado para prever os custos do seguro de saúde a partir dos atributos dos beneficiários.\n",
        "\n",
        "**Link do Kaggle: **https://www.kaggle.com/datasets/teertha/ushealthinsurancedataset"
      ],
      "metadata": {
        "id": "YpNs2pU_k4hW"
      }
    },
    {
      "cell_type": "markdown",
      "source": [
        "### Exploração de dados"
      ],
      "metadata": {
        "id": "F_f26REBxKOi"
      }
    },
    {
      "cell_type": "code",
      "execution_count": null,
      "metadata": {
        "id": "_KDO41BZNKnZ"
      },
      "outputs": [],
      "source": [
        "import numpy as np\n",
        "import pandas as pd\n",
        "from matplotlib import pyplot as plt\n",
        "import plotly.express as px\n",
        "import scipy.stats as stats\n",
        "import seaborn as sns\n",
        "from sklearn.preprocessing import OneHotEncoder\n",
        "from sklearn.compose import ColumnTransformer\n",
        "from sklearn.preprocessing import StandardScaler\n",
        "from sklearn.model_selection import KFold\n",
        "from sklearn.model_selection import cross_val_score\n",
        "from sklearn.model_selection import train_test_split\n",
        "from sklearn.metrics import accuracy_score, confusion_matrix, classification_report, mean_absolute_error, mean_squared_error\n",
        "from sklearn.neural_network import MLPRegressor\n",
        "import statsmodels\n",
        "from statsmodels.stats.diagnostic import lilliefors\n",
        "from sklearn.linear_model import LinearRegression\n",
        "from sklearn.svm import SVR\n",
        "from sklearn.tree import DecisionTreeRegressor\n",
        "from sklearn.ensemble import RandomForestRegressor\n",
        "from xgboost import XGBRegressor\n",
        "import lightgbm as lgb\n",
        "!pip install catboost\n",
        "from catboost.core import CatBoostRegressor"
      ]
    },
    {
      "cell_type": "code",
      "source": [
        "dados = pd.read_csv('/content/drive/MyDrive/CursoML/Insurance/insurance.csv',sep=',', encoding='iso-8859-1')"
      ],
      "metadata": {
        "id": "2RisgERcqW2I"
      },
      "execution_count": null,
      "outputs": []
    },
    {
      "cell_type": "code",
      "source": [
        "dados.shape"
      ],
      "metadata": {
        "id": "HJ068NwGNmYj"
      },
      "execution_count": null,
      "outputs": []
    },
    {
      "cell_type": "code",
      "source": [
        "dados.head()"
      ],
      "metadata": {
        "id": "WDW9BfgENors"
      },
      "execution_count": null,
      "outputs": []
    },
    {
      "source": [
        "dados['age'].plot(kind='hist', bins=20, title='age')\n",
        "plt.gca().spines[['top', 'right',]].set_visible(False)"
      ],
      "cell_type": "code",
      "execution_count": null,
      "outputs": [],
      "metadata": {
        "id": "98X0SQr4N-zp"
      }
    },
    {
      "source": [
        "dados.groupby('sex').size().plot(kind='barh', color=sns.palettes.mpl_palette('Dark2'))\n",
        "plt.gca().spines[['top', 'right',]].set_visible(False)"
      ],
      "cell_type": "code",
      "execution_count": null,
      "outputs": [],
      "metadata": {
        "id": "Fhq1R0IUOFHR"
      }
    },
    {
      "cell_type": "code",
      "source": [
        "dados['bmi'].plot(kind='hist', bins=20, title='bmi')\n",
        "plt.gca().spines[['top', 'right',]].set_visible(False)"
      ],
      "metadata": {
        "id": "vAnE7JcFONW2"
      },
      "execution_count": null,
      "outputs": []
    },
    {
      "cell_type": "code",
      "source": [
        "dados['children'].plot(kind='hist', bins=20, title='children')\n",
        "plt.gca().spines[['top', 'right',]].set_visible(False)"
      ],
      "metadata": {
        "id": "mFHGM-ccOS9K"
      },
      "execution_count": null,
      "outputs": []
    },
    {
      "cell_type": "code",
      "source": [
        "dados.groupby('smoker').size().plot(kind='barh', color=sns.palettes.mpl_palette('Dark2'))\n",
        "plt.gca().spines[['top', 'right',]].set_visible(False)"
      ],
      "metadata": {
        "id": "pNd-jwtIOgI9"
      },
      "execution_count": null,
      "outputs": []
    },
    {
      "cell_type": "code",
      "source": [
        "dados.groupby('region').size().plot(kind='barh', color=sns.palettes.mpl_palette('Dark2'))\n",
        "plt.gca().spines[['top', 'right',]].set_visible(False)"
      ],
      "metadata": {
        "id": "MQf0GkZ2OmPE"
      },
      "execution_count": null,
      "outputs": []
    },
    {
      "cell_type": "code",
      "source": [
        "dados['charges'].plot(kind='hist', bins=20, title='charges')\n",
        "plt.gca().spines[['top', 'right',]].set_visible(False)"
      ],
      "metadata": {
        "id": "TICHx7YPOsyB"
      },
      "execution_count": null,
      "outputs": []
    },
    {
      "cell_type": "code",
      "source": [
        "dados.dtypes"
      ],
      "metadata": {
        "id": "c8m5XckEOw7m"
      },
      "execution_count": null,
      "outputs": []
    },
    {
      "cell_type": "code",
      "source": [
        "dados.isnull().sum()"
      ],
      "metadata": {
        "id": "V6AH7uNQO0qo"
      },
      "execution_count": null,
      "outputs": []
    },
    {
      "cell_type": "code",
      "source": [
        "plt.scatter(dados.age, dados.bmi)\n",
        "plt.title('Correlação Linear')\n",
        "plt.xlabel('Idade')\n",
        "plt.ylabel('IMC')\n",
        "plt.grid(False)"
      ],
      "metadata": {
        "id": "DWxDUCEJnQib"
      },
      "execution_count": null,
      "outputs": []
    },
    {
      "cell_type": "code",
      "source": [
        "sns.pairplot(dados);"
      ],
      "metadata": {
        "id": "g0aUEVy2niiD"
      },
      "execution_count": null,
      "outputs": []
    },
    {
      "cell_type": "code",
      "source": [
        "stats.probplot(dados[\"age\"], dist=\"norm\", plot=plt)\n",
        "plt.title(\"Normal Q-Q plot\")\n",
        "plt.show()"
      ],
      "metadata": {
        "id": "t-B7MEiplBk-"
      },
      "execution_count": null,
      "outputs": []
    },
    {
      "cell_type": "code",
      "source": [
        "hist = px.histogram (dados, x = \"age\", nbins=60)\n",
        "hist.update_layout(width=800,height=500,title_text='Descrição do atributo')\n",
        "hist.show()"
      ],
      "metadata": {
        "id": "2RZpMC9RnAUz"
      },
      "execution_count": null,
      "outputs": []
    },
    {
      "cell_type": "code",
      "source": [
        "# Uníco que se assemelha a distribuição normal\n",
        "hist = px.histogram (dados, x = \"bmi\", nbins=60)\n",
        "hist.update_layout(width=800,height=500,title_text='Descrição do atributo')\n",
        "hist.show()"
      ],
      "metadata": {
        "id": "zg47yUUsn32o"
      },
      "execution_count": null,
      "outputs": []
    },
    {
      "cell_type": "code",
      "source": [
        "hist = px.histogram (dados, x = \"charges\", nbins=60)\n",
        "hist.update_layout(width=800,height=500,title_text='Descrição do atributo')\n",
        "hist.show()"
      ],
      "metadata": {
        "id": "Tyibb1B8n-qm"
      },
      "execution_count": null,
      "outputs": []
    },
    {
      "cell_type": "code",
      "source": [
        "hist = px.histogram (dados, x = \"children\", nbins=60)\n",
        "hist.update_layout(width=800,height=500,title_text='Descrição do atributo')\n",
        "hist.show()"
      ],
      "metadata": {
        "id": "tk2-qCzKoQIr"
      },
      "execution_count": null,
      "outputs": []
    },
    {
      "cell_type": "code",
      "source": [
        "estatistica, p = stats.shapiro(dados.bmi)\n",
        "print('Estatística do teste: {}'.format(estatistica))\n",
        "print('p-valor: {}'.format(p))"
      ],
      "metadata": {
        "id": "8g0GGj7Von-9"
      },
      "execution_count": null,
      "outputs": []
    },
    {
      "cell_type": "code",
      "source": [
        "estatistica, p = statsmodels.stats.diagnostic.lilliefors(dados.bmi, dist = 'norm')\n",
        "print('Estatística de teste: {}'.format(estatistica))\n",
        "print('p-valor: {}'.format(p))"
      ],
      "metadata": {
        "id": "Uyy3Gp3ao2KP"
      },
      "execution_count": null,
      "outputs": []
    },
    {
      "cell_type": "markdown",
      "source": [
        "Nenhuma das variáveis tem distribuição normal."
      ],
      "metadata": {
        "id": "kwFMvYCZpB2Z"
      }
    },
    {
      "cell_type": "markdown",
      "source": [
        "### Correlação linear"
      ],
      "metadata": {
        "id": "rp3d1bLCvoDZ"
      }
    },
    {
      "cell_type": "code",
      "source": [
        "coef, p = stats.spearmanr(dados.age, dados.children)\n",
        "print('Coeficiente de correlação: {}'.format(coef))\n",
        "print('p-valor: {}'.format(p))"
      ],
      "metadata": {
        "id": "Iy0ezUyypLnu"
      },
      "execution_count": null,
      "outputs": []
    },
    {
      "cell_type": "code",
      "source": [
        "coef, p = stats.spearmanr(dados.sex, dados.smoker)\n",
        "print('Coeficiente de correlação: {}'.format(coef))\n",
        "print('p-valor: {}'.format(p))"
      ],
      "metadata": {
        "id": "ExdBBis1vngO"
      },
      "execution_count": null,
      "outputs": []
    },
    {
      "cell_type": "markdown",
      "source": [
        "Age e Children, Sex e Smoker parecem ter correlação."
      ],
      "metadata": {
        "id": "3GLtcCskwvGR"
      }
    },
    {
      "cell_type": "markdown",
      "source": [
        "### Tratamento dos dados"
      ],
      "metadata": {
        "id": "a1ulJcdnmU-H"
      }
    },
    {
      "cell_type": "code",
      "source": [
        "previsores = dados.iloc[:, 0:6].values"
      ],
      "metadata": {
        "id": "iqAYflGHnXUN"
      },
      "execution_count": null,
      "outputs": []
    },
    {
      "cell_type": "code",
      "source": [
        "previsores2 = ColumnTransformer(transformers=[('OneHot', OneHotEncoder(), [1,4,5])], remainder='passthrough').fit_transform(previsores)\n"
      ],
      "metadata": {
        "id": "uwds4LgqoH28"
      },
      "execution_count": null,
      "outputs": []
    },
    {
      "cell_type": "code",
      "source": [
        "previsores_esc = StandardScaler().fit_transform(previsores2)"
      ],
      "metadata": {
        "id": "NgNdBkoxoevs"
      },
      "execution_count": null,
      "outputs": []
    },
    {
      "cell_type": "code",
      "source": [
        "alvo = dados.iloc[:,6]"
      ],
      "metadata": {
        "id": "qWDl18-Do0e-"
      },
      "execution_count": null,
      "outputs": []
    },
    {
      "cell_type": "code",
      "source": [
        "x_treino, x_teste, y_treino, y_teste = train_test_split(previsores_esc, alvo, test_size=0.2, random_state=42)"
      ],
      "metadata": {
        "id": "w9Dvt9CKooX5"
      },
      "execution_count": null,
      "outputs": []
    },
    {
      "cell_type": "markdown",
      "source": [
        "### Regressão Linear Múltipla"
      ],
      "metadata": {
        "id": "_1Kw9SbWyj-J"
      }
    },
    {
      "cell_type": "code",
      "source": [
        "reg_linear1 = LinearRegression()\n",
        "reg_linear1.fit(x_treino, y_treino)"
      ],
      "metadata": {
        "id": "U_QDHrGUpGC5"
      },
      "execution_count": null,
      "outputs": []
    },
    {
      "cell_type": "code",
      "source": [
        "reg_linear1.intercept_"
      ],
      "metadata": {
        "id": "GOwqCPoCpH_p"
      },
      "execution_count": null,
      "outputs": []
    },
    {
      "cell_type": "code",
      "source": [
        "reg_linear1.coef_"
      ],
      "metadata": {
        "id": "11LsIZU2pJHg"
      },
      "execution_count": null,
      "outputs": []
    },
    {
      "cell_type": "code",
      "source": [
        "reg_linear1.score(x_treino, y_treino)"
      ],
      "metadata": {
        "id": "RrJ_72GLpJEc"
      },
      "execution_count": null,
      "outputs": []
    },
    {
      "cell_type": "code",
      "source": [
        "reg_linear1.score(x_teste, y_teste)"
      ],
      "metadata": {
        "id": "HkG4JsjKpMWN"
      },
      "execution_count": null,
      "outputs": []
    },
    {
      "cell_type": "code",
      "source": [
        "previsoes_treino = reg_linear1.predict(x_treino)\n",
        "previsoes_treino"
      ],
      "metadata": {
        "id": "fVDjVrQ2pOo_"
      },
      "execution_count": null,
      "outputs": []
    },
    {
      "cell_type": "code",
      "source": [
        "previsoes_teste = reg_linear1.predict(x_teste)\n",
        "previsoes_teste"
      ],
      "metadata": {
        "id": "ttbwjIhcpbHT"
      },
      "execution_count": null,
      "outputs": []
    },
    {
      "cell_type": "code",
      "source": [
        "abs(y_teste - previsoes_teste).mean()"
      ],
      "metadata": {
        "id": "nWkkreYLpgyc"
      },
      "execution_count": null,
      "outputs": []
    },
    {
      "cell_type": "code",
      "source": [
        "mean_absolute_error(y_teste, previsoes_teste)"
      ],
      "metadata": {
        "id": "RFgYDbhuppBP"
      },
      "execution_count": null,
      "outputs": []
    },
    {
      "cell_type": "code",
      "source": [
        "mean_squared_error(y_teste, previsoes_teste)"
      ],
      "metadata": {
        "id": "lNDvbrBKpqY9"
      },
      "execution_count": null,
      "outputs": []
    },
    {
      "cell_type": "code",
      "source": [
        "np.sqrt(mean_squared_error(y_teste, previsoes_teste))"
      ],
      "metadata": {
        "id": "K5JCfd4gpruW"
      },
      "execution_count": null,
      "outputs": []
    },
    {
      "cell_type": "code",
      "source": [
        "kfold = KFold(n_splits = 15, shuffle=True, random_state = 5)"
      ],
      "metadata": {
        "id": "hsKqz9z2pu5R"
      },
      "execution_count": null,
      "outputs": []
    },
    {
      "cell_type": "code",
      "source": [
        "modelo = LinearRegression()\n",
        "resultado = cross_val_score(modelo, previsores_esc, alvo, cv = kfold)\n",
        "resultado"
      ],
      "metadata": {
        "id": "-ogqdy3Rpv9a"
      },
      "execution_count": null,
      "outputs": []
    },
    {
      "cell_type": "code",
      "source": [
        "print(\"Coef. determinação Médio: %.2f%%\" % (resultado.mean() * 100.0))"
      ],
      "metadata": {
        "id": "hq_pAmVGp4YW"
      },
      "execution_count": null,
      "outputs": []
    },
    {
      "cell_type": "markdown",
      "source": [
        "### Regressão por Vetores de Suporte"
      ],
      "metadata": {
        "id": "is8wvvRh7ZxE"
      }
    },
    {
      "cell_type": "code",
      "source": [
        "SVR = SVR(kernel='rbf')\n",
        "SVR.fit(x_treino,y_treino)"
      ],
      "metadata": {
        "id": "YQ8rYZxv7kzg"
      },
      "execution_count": null,
      "outputs": []
    },
    {
      "cell_type": "code",
      "source": [
        "SVR.score(x_treino, y_treino)"
      ],
      "metadata": {
        "id": "2ZFb8DdT7mS2"
      },
      "execution_count": null,
      "outputs": []
    },
    {
      "cell_type": "code",
      "source": [
        "SVR.score(x_teste, y_teste)"
      ],
      "metadata": {
        "id": "58CvMHCV7o9L"
      },
      "execution_count": null,
      "outputs": []
    },
    {
      "cell_type": "code",
      "source": [
        "x_scaler = StandardScaler()\n",
        "x_treino_scaler = x_scaler.fit_transform(x_treino)"
      ],
      "metadata": {
        "id": "WesCZjiW8fgx"
      },
      "execution_count": null,
      "outputs": []
    },
    {
      "cell_type": "code",
      "source": [
        "y_scaler = StandardScaler()\n",
        "y_treino_scaler = y_scaler.fit_transform(y_treino.values.reshape(-1,1))"
      ],
      "metadata": {
        "id": "_oUuhQFr7wZ9"
      },
      "execution_count": null,
      "outputs": []
    },
    {
      "cell_type": "code",
      "source": [
        "x_teste_scaler = x_scaler.transform(x_teste)\n",
        "x_teste_scaler"
      ],
      "metadata": {
        "id": "kMix9tCs7zzl"
      },
      "execution_count": null,
      "outputs": []
    },
    {
      "cell_type": "code",
      "source": [
        "y_teste_scaler = y_scaler.transform(y_teste.values.reshape(-1,1))\n",
        "y_teste_scaler"
      ],
      "metadata": {
        "id": "6B-3AYsm7-DF"
      },
      "execution_count": null,
      "outputs": []
    },
    {
      "cell_type": "code",
      "source": [
        "from sklearn.svm import SVR\n",
        "SVR2 = SVR(kernel='rbf')\n",
        "SVR2.fit(x_treino_scaler, y_treino_scaler.ravel())"
      ],
      "metadata": {
        "id": "NGjfgteD8LUa"
      },
      "execution_count": null,
      "outputs": []
    },
    {
      "cell_type": "code",
      "source": [
        "SVR2.score(x_treino_scaler, y_treino_scaler)"
      ],
      "metadata": {
        "id": "YwqnmBHr8RPY"
      },
      "execution_count": null,
      "outputs": []
    },
    {
      "cell_type": "code",
      "source": [
        "SVR2.score(x_teste_scaler, y_teste_scaler)"
      ],
      "metadata": {
        "id": "MVB2BNJ08wXB"
      },
      "execution_count": null,
      "outputs": []
    },
    {
      "cell_type": "code",
      "source": [
        "y_teste_inverse = y_scaler.inverse_transform(y_teste_scaler)\n",
        "previsoes_inverse = y_scaler.inverse_transform(previsoes_teste.reshape(-1, 1))"
      ],
      "metadata": {
        "id": "Ov4ZGLWw9XKB"
      },
      "execution_count": null,
      "outputs": []
    },
    {
      "cell_type": "code",
      "source": [
        "mean_absolute_error(y_teste_inverse, previsoes_inverse)"
      ],
      "metadata": {
        "id": "2coJWiHg9cOw"
      },
      "execution_count": null,
      "outputs": []
    },
    {
      "cell_type": "code",
      "source": [
        "mean_squared_error(y_teste_inverse, previsoes_inverse)"
      ],
      "metadata": {
        "id": "x-peMPzL9eJV"
      },
      "execution_count": null,
      "outputs": []
    },
    {
      "cell_type": "code",
      "source": [
        "np.sqrt(mean_squared_error(y_teste_inverse, previsoes_inverse))"
      ],
      "metadata": {
        "id": "68vGGFwb9hp2"
      },
      "execution_count": null,
      "outputs": []
    },
    {
      "cell_type": "code",
      "source": [
        "y = StandardScaler()\n",
        "alvo_esc = y.fit_transform(alvo.values.reshape(-1,1))"
      ],
      "metadata": {
        "id": "wiQhDZY69tal"
      },
      "execution_count": null,
      "outputs": []
    },
    {
      "cell_type": "code",
      "source": [
        "kfold = KFold(n_splits = 15, shuffle=True, random_state = 5)"
      ],
      "metadata": {
        "id": "fSNcSTiOSlaB"
      },
      "execution_count": null,
      "outputs": []
    },
    {
      "cell_type": "code",
      "source": [
        "from sklearn.svm import SVR\n",
        "modelo = SVR(kernel='rbf')\n",
        "resultado = cross_val_score(modelo, previsores_esc, alvo_esc.ravel(), cv = kfold)\n",
        "resultado"
      ],
      "metadata": {
        "id": "ntZMzrY695t3"
      },
      "execution_count": null,
      "outputs": []
    },
    {
      "cell_type": "code",
      "source": [
        "print(\"Coeficiente de Determinação médio: %.2f%%\" % (resultado.mean() * 100.0))"
      ],
      "metadata": {
        "id": "WIfEDYY39_Cu"
      },
      "execution_count": null,
      "outputs": []
    },
    {
      "cell_type": "markdown",
      "source": [
        "### Regressão por Árvore de Decisão"
      ],
      "metadata": {
        "id": "sQNt_f8A--8g"
      }
    },
    {
      "cell_type": "code",
      "source": [
        "arvore = DecisionTreeRegressor(max_depth=4, random_state=10)\n",
        "arvore.fit(x_treino, y_treino)"
      ],
      "metadata": {
        "id": "bCs3gbK0Ded-"
      },
      "execution_count": null,
      "outputs": []
    },
    {
      "cell_type": "code",
      "source": [
        "arvore.score(x_treino, y_treino)"
      ],
      "metadata": {
        "id": "EImHfHvDGuuo"
      },
      "execution_count": null,
      "outputs": []
    },
    {
      "cell_type": "code",
      "source": [
        "arvore.score(x_teste, y_teste)"
      ],
      "metadata": {
        "id": "n7IQCR1nGxqu"
      },
      "execution_count": null,
      "outputs": []
    },
    {
      "cell_type": "code",
      "source": [
        "previsoes_teste = arvore.predict(x_teste)\n",
        "previsoes_teste"
      ],
      "metadata": {
        "id": "ZdlHc6t9Gz8c"
      },
      "execution_count": null,
      "outputs": []
    },
    {
      "cell_type": "code",
      "source": [
        "mean_absolute_error(y_teste, previsoes_teste)"
      ],
      "metadata": {
        "id": "YYoN3ktnG1hh"
      },
      "execution_count": null,
      "outputs": []
    },
    {
      "cell_type": "code",
      "source": [
        "mean_squared_error(y_teste, previsoes_teste)"
      ],
      "metadata": {
        "id": "wdl-ssutG3cf"
      },
      "execution_count": null,
      "outputs": []
    },
    {
      "cell_type": "code",
      "source": [
        "np.sqrt(mean_squared_error(y_teste, previsoes_teste))"
      ],
      "metadata": {
        "id": "iLPmce5DG559"
      },
      "execution_count": null,
      "outputs": []
    },
    {
      "cell_type": "code",
      "source": [
        "kfold = KFold(n_splits = 15, shuffle=True, random_state = 5)"
      ],
      "metadata": {
        "id": "YycKBBi6G81z"
      },
      "execution_count": null,
      "outputs": []
    },
    {
      "cell_type": "code",
      "source": [
        "modelo = DecisionTreeRegressor(max_depth=4, random_state=10)\n",
        "resultado = cross_val_score(modelo, previsores_esc, alvo, cv = kfold)\n",
        "resultado"
      ],
      "metadata": {
        "id": "aX7yytT2G8x-"
      },
      "execution_count": null,
      "outputs": []
    },
    {
      "cell_type": "code",
      "source": [
        "print(\"Coeficiente de Determinação Médio: %.2f%%\" % (resultado.mean() * 100.0))"
      ],
      "metadata": {
        "id": "F9Z9dR2cHCj1"
      },
      "execution_count": null,
      "outputs": []
    },
    {
      "cell_type": "markdown",
      "source": [
        "### Regressão com Random Forest"
      ],
      "metadata": {
        "id": "FhpHTnHAHJdC"
      }
    },
    {
      "cell_type": "code",
      "source": [
        "random = RandomForestRegressor(n_estimators=100, criterion='squared_error', max_depth=4, random_state = 10)\n",
        "random.fit(x_treino, y_treino)"
      ],
      "metadata": {
        "id": "Nx2Zn5nbHLYD"
      },
      "execution_count": null,
      "outputs": []
    },
    {
      "cell_type": "code",
      "source": [
        "random.score(x_treino, y_treino)"
      ],
      "metadata": {
        "id": "4QdCUuXSHPwg"
      },
      "execution_count": null,
      "outputs": []
    },
    {
      "cell_type": "code",
      "source": [
        "random.score(x_teste, y_teste)"
      ],
      "metadata": {
        "id": "a8JSrzb4HRab"
      },
      "execution_count": null,
      "outputs": []
    },
    {
      "cell_type": "code",
      "source": [
        "previsoes_teste = random.predict(x_teste)\n",
        "previsoes_teste"
      ],
      "metadata": {
        "id": "_ZMA-_4DHS5j"
      },
      "execution_count": null,
      "outputs": []
    },
    {
      "cell_type": "code",
      "source": [
        "mean_absolute_error(y_teste, previsoes_teste)"
      ],
      "metadata": {
        "id": "e5QK6hBjHU85"
      },
      "execution_count": null,
      "outputs": []
    },
    {
      "cell_type": "code",
      "source": [
        "mean_squared_error(y_teste, previsoes_teste)"
      ],
      "metadata": {
        "id": "6aZpSiDxHXPz"
      },
      "execution_count": null,
      "outputs": []
    },
    {
      "cell_type": "code",
      "source": [
        "np.sqrt(mean_squared_error(y_teste, previsoes_teste))"
      ],
      "metadata": {
        "id": "IIKxIk00HZOn"
      },
      "execution_count": null,
      "outputs": []
    },
    {
      "cell_type": "code",
      "source": [
        "kfold = KFold(n_splits = 15, shuffle=True, random_state = 5)"
      ],
      "metadata": {
        "id": "GvTQQG4QHa6P"
      },
      "execution_count": null,
      "outputs": []
    },
    {
      "cell_type": "code",
      "source": [
        "from sklearn.ensemble import RandomForestRegressor\n",
        "modelo = RandomForestRegressor(n_estimators=100, criterion='squared_error', max_depth=4, random_state = 10)\n",
        "resultado = cross_val_score(modelo, previsores_esc, alvo, cv = kfold)\n",
        "resultado"
      ],
      "metadata": {
        "id": "k3U_9zaGHce5"
      },
      "execution_count": null,
      "outputs": []
    },
    {
      "cell_type": "code",
      "source": [
        "print(\"Coeficiente de Determinação Médio: %.2f%%\" % (resultado.mean() * 100.0))"
      ],
      "metadata": {
        "id": "3j0nznykHlK1"
      },
      "execution_count": null,
      "outputs": []
    },
    {
      "cell_type": "markdown",
      "source": [
        "### Regressão com XGBoost"
      ],
      "metadata": {
        "id": "IxT8fEzXHnjA"
      }
    },
    {
      "cell_type": "code",
      "source": [
        "xgboost = XGBRegressor(n_estimators=100, max_depth=3, learning_rate=0.05, objective=\"reg:squarederror\", random_state=10)\n",
        "xgboost.fit(x_treino, y_treino)"
      ],
      "metadata": {
        "id": "_2_2zZE-HsMJ"
      },
      "execution_count": null,
      "outputs": []
    },
    {
      "cell_type": "code",
      "source": [
        "xgboost.score(x_treino, y_treino)"
      ],
      "metadata": {
        "id": "08CXlKFIHvGW"
      },
      "execution_count": null,
      "outputs": []
    },
    {
      "cell_type": "code",
      "source": [
        "xgboost.score(x_teste, y_teste)"
      ],
      "metadata": {
        "id": "xYAASItgH_M-"
      },
      "execution_count": null,
      "outputs": []
    },
    {
      "cell_type": "code",
      "source": [
        "previsoes_teste = xgboost.predict(x_teste)"
      ],
      "metadata": {
        "id": "MTAeOcTIIOSF"
      },
      "execution_count": null,
      "outputs": []
    },
    {
      "cell_type": "code",
      "source": [
        "mean_absolute_error(y_teste, previsoes_teste)"
      ],
      "metadata": {
        "id": "DoGEFOFWIRRE"
      },
      "execution_count": null,
      "outputs": []
    },
    {
      "cell_type": "code",
      "source": [
        "np.sqrt(mean_squared_error(y_teste, previsoes_teste))"
      ],
      "metadata": {
        "id": "QUOW7yxhISBC"
      },
      "execution_count": null,
      "outputs": []
    },
    {
      "cell_type": "code",
      "source": [
        "kfold = KFold(n_splits = 15, shuffle=True, random_state = 5)"
      ],
      "metadata": {
        "id": "UiHbQ43QIYnH"
      },
      "execution_count": null,
      "outputs": []
    },
    {
      "cell_type": "code",
      "source": [
        "modelo = XGBRegressor(n_estimators=100, max_depth=3, learning_rate=0.05, objective = \"reg:squarederror\")\n",
        "resultado = cross_val_score(modelo, previsores_esc, alvo, cv = kfold)\n",
        "resultado"
      ],
      "metadata": {
        "id": "MRsK5U5tIbVV"
      },
      "execution_count": null,
      "outputs": []
    },
    {
      "cell_type": "code",
      "source": [
        "print(\"Coeficiente de determinação Médio: %.2f%%\" % (resultado.mean() * 100.0))"
      ],
      "metadata": {
        "id": "mL5E6ZllIZfO"
      },
      "execution_count": null,
      "outputs": []
    },
    {
      "cell_type": "markdown",
      "source": [
        "### Regressão com LightBGM"
      ],
      "metadata": {
        "id": "v-r97jaQIsg_"
      }
    },
    {
      "cell_type": "code",
      "source": [
        "!pip install lightgbm"
      ],
      "metadata": {
        "id": "3HGyFApdIvvO"
      },
      "execution_count": null,
      "outputs": []
    },
    {
      "cell_type": "code",
      "source": [
        "lgbm = lgb.LGBMRegressor(num_leaves=50, max_depth=3, learning_rate=0.1, n_estimators=50, random_state=10)\n",
        "lgbm.fit(x_treino, y_treino)"
      ],
      "metadata": {
        "id": "1kb5F1QPI0DT"
      },
      "execution_count": null,
      "outputs": []
    },
    {
      "cell_type": "code",
      "source": [
        "lgbm.score(x_treino, y_treino)"
      ],
      "metadata": {
        "id": "wwzacilLI2o7"
      },
      "execution_count": null,
      "outputs": []
    },
    {
      "cell_type": "code",
      "source": [
        "lgbm.score(x_teste, y_teste)"
      ],
      "metadata": {
        "id": "CsrXXaWvI3tu"
      },
      "execution_count": null,
      "outputs": []
    },
    {
      "cell_type": "code",
      "source": [
        "previsoes_teste = lgbm.predict(x_teste)"
      ],
      "metadata": {
        "id": "6G5_wCmkJtOW"
      },
      "execution_count": null,
      "outputs": []
    },
    {
      "cell_type": "code",
      "source": [
        "mean_absolute_error(y_teste, previsoes_teste)"
      ],
      "metadata": {
        "id": "2leGzzFWJu_g"
      },
      "execution_count": null,
      "outputs": []
    },
    {
      "cell_type": "code",
      "source": [
        "np.sqrt(mean_squared_error(y_teste, previsoes_teste))"
      ],
      "metadata": {
        "id": "mKfn7xGFJw_B"
      },
      "execution_count": null,
      "outputs": []
    },
    {
      "cell_type": "code",
      "source": [
        "modelo = lgb.LGBMRegressor(num_leaves=50, max_depth=3, learning_rate=0.1, n_estimators=50)\n",
        "resultado = cross_val_score(modelo, previsores_esc, alvo, cv = kfold)\n",
        "resultado"
      ],
      "metadata": {
        "id": "KDpO5BB1JxpY"
      },
      "execution_count": null,
      "outputs": []
    },
    {
      "cell_type": "code",
      "source": [
        "print(\"Coeficiente de Determinação Médio: %.2f%%\" % (resultado.mean() * 100.0))"
      ],
      "metadata": {
        "id": "F0WePFTSJ3oU"
      },
      "execution_count": null,
      "outputs": []
    },
    {
      "cell_type": "markdown",
      "source": [
        "### Regressão com CatBoost"
      ],
      "metadata": {
        "id": "HRslArxKJ7O6"
      }
    },
    {
      "cell_type": "code",
      "source": [
        "catboost = CatBoostRegressor (iterations=80, learning_rate=0.08, depth = 4, random_state = 10)\n",
        "catboost.fit(x_treino, y_treino)"
      ],
      "metadata": {
        "id": "Gb9u-TQKKEP_"
      },
      "execution_count": null,
      "outputs": []
    },
    {
      "cell_type": "code",
      "source": [
        "catboost.score(x_treino, y_treino)"
      ],
      "metadata": {
        "id": "eBjSB5GaKGGF"
      },
      "execution_count": null,
      "outputs": []
    },
    {
      "cell_type": "code",
      "source": [
        "catboost.score(x_teste, y_teste)"
      ],
      "metadata": {
        "id": "RZD2uJOAKHHP"
      },
      "execution_count": null,
      "outputs": []
    },
    {
      "cell_type": "code",
      "source": [
        "previsoes_teste = catboost.predict(x_teste)"
      ],
      "metadata": {
        "id": "oEw6fwAEKY3o"
      },
      "execution_count": null,
      "outputs": []
    },
    {
      "cell_type": "code",
      "source": [
        "mean_absolute_error(y_teste, previsoes_teste)"
      ],
      "metadata": {
        "id": "GZcy1sKWKcd7"
      },
      "execution_count": null,
      "outputs": []
    },
    {
      "cell_type": "code",
      "source": [
        "np.sqrt(mean_squared_error(y_teste, previsoes_teste))"
      ],
      "metadata": {
        "id": "LfjY2CZBKfSe"
      },
      "execution_count": null,
      "outputs": []
    },
    {
      "cell_type": "code",
      "source": [
        "modelo = CatBoostRegressor (iterations=80, learning_rate=0.08, depth = 4, random_state = 10)\n",
        "resultado = cross_val_score(modelo, previsores_esc, alvo, cv = kfold)\n",
        "resultado"
      ],
      "metadata": {
        "id": "K_pI5ey4Kf7o"
      },
      "execution_count": null,
      "outputs": []
    },
    {
      "cell_type": "code",
      "source": [
        "print(\"Coeficiente de Determinação Médio: %.2f%%\" % (resultado.mean() * 100.0))"
      ],
      "metadata": {
        "id": "J_zYqBjRKk_y"
      },
      "execution_count": null,
      "outputs": []
    },
    {
      "cell_type": "markdown",
      "source": [
        "### Redes Neurais"
      ],
      "metadata": {
        "id": "NML-caLrp4wm"
      }
    },
    {
      "cell_type": "code",
      "source": [
        "redes = MLPRegressor(hidden_layer_sizes=(100, 100), activation='relu', verbose=True, max_iter=2000,\n",
        "                    solver='adam', random_state = 12)"
      ],
      "metadata": {
        "id": "mnTPaZTUqzW_"
      },
      "execution_count": null,
      "outputs": []
    },
    {
      "cell_type": "code",
      "source": [
        "redes.fit(x_treino, y_treino)"
      ],
      "metadata": {
        "id": "dBOwVeHlq2Am"
      },
      "execution_count": null,
      "outputs": []
    },
    {
      "cell_type": "code",
      "source": [
        "redes.n_layers_"
      ],
      "metadata": {
        "id": "edd-_B3gq4Ey"
      },
      "execution_count": null,
      "outputs": []
    },
    {
      "cell_type": "code",
      "source": [
        "redes.score(x_treino, y_treino)"
      ],
      "metadata": {
        "id": "dGp4xCrurXiw"
      },
      "execution_count": null,
      "outputs": []
    },
    {
      "cell_type": "code",
      "source": [
        "redes.score(x_teste, y_teste)"
      ],
      "metadata": {
        "id": "K-qiMM8qrbsS"
      },
      "execution_count": null,
      "outputs": []
    },
    {
      "cell_type": "code",
      "source": [
        "previsoes_teste = redes.predict(x_teste)"
      ],
      "metadata": {
        "id": "SrkdaWOXrwse"
      },
      "execution_count": null,
      "outputs": []
    },
    {
      "cell_type": "code",
      "source": [
        "mean_absolute_error(y_teste, previsoes_teste)"
      ],
      "metadata": {
        "id": "hICxn8jer1x-"
      },
      "execution_count": null,
      "outputs": []
    },
    {
      "cell_type": "code",
      "source": [
        "np.sqrt(mean_squared_error(y_teste, previsoes_teste))"
      ],
      "metadata": {
        "id": "xeoefh38r3Dr"
      },
      "execution_count": null,
      "outputs": []
    },
    {
      "cell_type": "code",
      "source": [
        "kfold = KFold(n_splits = 12, shuffle=True, random_state = 5)"
      ],
      "metadata": {
        "id": "bEFeMFm9r4oB"
      },
      "execution_count": null,
      "outputs": []
    },
    {
      "cell_type": "code",
      "source": [
        "modelo = MLPRegressor(hidden_layer_sizes=(100, 100), activation='relu', verbose=True, max_iter=2000,\n",
        "                    solver='adam', random_state = 12)\n",
        "resultado = cross_val_score(modelo, previsores_esc, alvo, cv = kfold)\n",
        "resultado"
      ],
      "metadata": {
        "id": "lg4nFznvr6fO"
      },
      "execution_count": null,
      "outputs": []
    },
    {
      "cell_type": "code",
      "source": [
        "print(\"Acurácia Média: %.2f%%\" % (resultado.mean() * 100.0))"
      ],
      "metadata": {
        "id": "bmNoZ6khuq3F"
      },
      "execution_count": null,
      "outputs": []
    },
    {
      "cell_type": "code",
      "source": [
        "import pandas as pd\n",
        "from sklearn.metrics import mean_absolute_error, mean_squared_error, r2_score\n",
        "import numpy as np\n",
        "\n",
        "def avaliar_modelo(nome, modelo, x_treino, y_treino, x_teste, y_teste):\n",
        "    # Treinamento\n",
        "    modelo.fit(x_treino, y_treino)\n",
        "\n",
        "    # Previsões\n",
        "    y_pred_treino = modelo.predict(x_treino)\n",
        "    y_pred_teste = modelo.predict(x_teste)\n",
        "\n",
        "    # Métricas\n",
        "    resultados = {\n",
        "        \"Modelo\": nome,\n",
        "        \"R2_treino\": r2_score(y_treino, y_pred_treino),\n",
        "        \"R2_teste\": r2_score(y_teste, y_pred_teste),\n",
        "        \"MAE\": mean_absolute_error(y_teste, y_pred_teste),\n",
        "        \"RMSE\": np.sqrt(mean_squared_error(y_teste, y_pred_teste))\n",
        "    }\n",
        "    return resultados\n",
        "\n",
        "# Lista de modelos para comparar\n",
        "modelos = {\n",
        "    \"Regressão Linear\": LinearRegression(),\n",
        "    \"SVR\": SVR(kernel=\"rbf\"),\n",
        "    \"Árvore de Decisão\": DecisionTreeRegressor(max_depth=5, random_state=10),\n",
        "    \"Random Forest\": RandomForestRegressor(n_estimators=60, max_depth=5, random_state=10),\n",
        "    \"XGBoost\": XGBRegressor(n_estimators=180, max_depth=8, learning_rate=0.05, random_state=10),\n",
        "    \"LightGBM\": lgb.LGBMRegressor(num_leaves=10, max_depth=10, learning_rate=0.1, n_estimators=60, random_state=10),\n",
        "    \"CatBoost\": CatBoostRegressor(iterations=130, learning_rate=0.08, depth=5, random_state=10, verbose=False),\n",
        "    \"Rede Neural (MLP)\": MLPRegressor(hidden_layer_sizes=(100,100), activation=\"relu\", max_iter=2000, random_state=12)\n",
        "}\n",
        "\n",
        "# Avaliação de todos os modelos\n",
        "resultados = []\n",
        "for nome, modelo in modelos.items():\n",
        "    resultados.append(avaliar_modelo(nome, modelo, x_treino, y_treino, x_teste, y_teste))\n",
        "\n",
        "# Tabela comparativa\n",
        "df_resultados = pd.DataFrame(resultados)\n",
        "print(df_resultados.sort_values(by=\"R2_teste\", ascending=False))\n"
      ],
      "metadata": {
        "id": "d3DLqDwuOgnH"
      },
      "execution_count": null,
      "outputs": []
    },
    {
      "cell_type": "markdown",
      "source": [
        "### Resultados:\n",
        "\n",
        "**Regressão linear múltipla:** R^2 = 0,74/0,78; RMSE = 5796.28; R^2 Validação Cruzada: 73.54%\n",
        "\n",
        "**Vetores de suporte:** R^2 = 0.85/0.86; RMSE = 4621.43; R^2 Validação Cruzada: 83.36%\n",
        "\n",
        "**Árvore de decisão:** R^2 = 0.87/0,86; RMSE = 4592.76; R^2 Validação Cruzada: 83.83%\n",
        "\n",
        "**Random Forest:** R^2 = 0,87/0,87; RMSE = 4466.85; R^2 Validação Cruzada: 85.26%\n",
        "\n",
        "**XGBoost: R^2 = 0,88/0,88; RMSE = 4231.73; R^2 Validação Cruzada: 85.82%**\n",
        "\n",
        "**LightBGM:** R^2 = 0,88/0,88; RMSE = 4317.04; R^2 Validação Cruzada: 85.68%\n",
        "\n",
        "**CatBoost:** R^2 = 0,87/0,88; RMSE = 4271.98; R^2 Validação Cruzada: 85.54%\n",
        "\n",
        "**Redes Neurais:** R^2 = 0,86/0,86; RMSE = 4699.10; R^2 Validação Cruzada: 83.18%"
      ],
      "metadata": {
        "id": "yzkb5g5hkX8I"
      }
    }
  ]
}