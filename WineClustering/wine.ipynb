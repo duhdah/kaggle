{
  "nbformat": 4,
  "nbformat_minor": 0,
  "metadata": {
    "colab": {
      "provenance": [],
      "collapsed_sections": [
        "FsR1Wq8hULnM",
        "IWKNF5hKVKji",
        "5sZIgBI8Vwye",
        "NuD4A0nUaG_u",
        "IPzEGZ1PbiQl",
        "CEw1emrVdcHc",
        "89kkYbAbfoti",
        "4Y-X6_OShV3p",
        "tMKJ4BVS-3yv"
      ]
    },
    "kernelspec": {
      "name": "python3",
      "display_name": "Python 3"
    },
    "language_info": {
      "name": "python"
    }
  },
  "cells": [
    {
      "cell_type": "markdown",
      "source": [
        "## Wine Clustering"
      ],
      "metadata": {
        "id": "JHVivSLd9O47"
      }
    },
    {
      "cell_type": "markdown",
      "source": [
        "**Proposta:** Aplicar algoritmos de clusterização para identificar os diferentes tipos de vinho presentes no dataset a partir de sua composição química.\n",
        "\n",
        "**Link do Kaggle:** https://www.kaggle.com/datasets/harrywang/wine-dataset-for-clustering"
      ],
      "metadata": {
        "id": "7WIDO-9Ufrqm"
      }
    },
    {
      "cell_type": "code",
      "execution_count": null,
      "metadata": {
        "id": "ljHa9ybeR17M"
      },
      "outputs": [],
      "source": [
        "import numpy as np\n",
        "import pandas as pd\n",
        "import plotly.express as px\n",
        "import warnings\n",
        "from sklearn.preprocessing import StandardScaler\n",
        "from sklearn.decomposition import PCA\n",
        "from sklearn.cluster import KMeans\n",
        "import matplotlib.pyplot as plt\n",
        "import seaborn as sns\n",
        "import plotly.express as px\n",
        "import plotly.graph_objects as go\n",
        "from scipy.cluster.hierarchy import dendrogram, linkage\n",
        "from sklearn.cluster import AgglomerativeClustering\n",
        "from sklearn.cluster import DBSCAN\n",
        "from sklearn.cluster import MeanShift\n",
        "from sklearn.metrics import silhouette_score, davies_bouldin_score, calinski_harabasz_score\n",
        "\n"
      ]
    },
    {
      "cell_type": "code",
      "source": [
        "warnings.filterwarnings(\"ignore\")"
      ],
      "metadata": {
        "id": "zPO8L8FySeul"
      },
      "execution_count": null,
      "outputs": []
    },
    {
      "cell_type": "code",
      "source": [
        "from google.colab import drive\n",
        "drive.mount('/content/drive')"
      ],
      "metadata": {
        "id": "bxyKRPL-Sfz-"
      },
      "execution_count": null,
      "outputs": []
    },
    {
      "cell_type": "code",
      "source": [
        "df = pd.read_csv('/content/drive/MyDrive/CursoML/WineClustering/wine-clustering.csv',\n",
        "                    sep=',', encoding='iso-8859-1')"
      ],
      "metadata": {
        "id": "lHe5ZOdmShsx"
      },
      "execution_count": null,
      "outputs": []
    },
    {
      "cell_type": "markdown",
      "source": [
        "### Exploração dos Dados"
      ],
      "metadata": {
        "id": "FsR1Wq8hULnM"
      }
    },
    {
      "cell_type": "code",
      "source": [
        "df.head()"
      ],
      "metadata": {
        "id": "U7VttD_fSvtw"
      },
      "execution_count": null,
      "outputs": []
    },
    {
      "cell_type": "code",
      "source": [
        "df.shape"
      ],
      "metadata": {
        "id": "FP4eYDg9SyaU"
      },
      "execution_count": null,
      "outputs": []
    },
    {
      "cell_type": "code",
      "source": [
        "df.dtypes"
      ],
      "metadata": {
        "id": "Vk57UueFS0m3"
      },
      "execution_count": null,
      "outputs": []
    },
    {
      "cell_type": "code",
      "source": [
        "df.isnull().sum()"
      ],
      "metadata": {
        "id": "5TxO_ZDrS4n5"
      },
      "execution_count": null,
      "outputs": []
    },
    {
      "cell_type": "code",
      "source": [
        "df.describe()"
      ],
      "metadata": {
        "id": "yXw2KG5HTDul"
      },
      "execution_count": null,
      "outputs": []
    },
    {
      "cell_type": "code",
      "source": [
        "boxplot = px.box(df, y=\"Proline\")\n",
        "boxplot.show()"
      ],
      "metadata": {
        "id": "kQ_RQHUHTWwN"
      },
      "execution_count": null,
      "outputs": []
    },
    {
      "cell_type": "markdown",
      "source": [
        "Têm alguns outliers: Malic_Acid, Ash, Ash_Alcanity, Magnesium, Proanthocyanins, Color_Intensity, Hue."
      ],
      "metadata": {
        "id": "9WrwVHeIUPZf"
      }
    },
    {
      "cell_type": "markdown",
      "source": [
        "### Pré-processamento"
      ],
      "metadata": {
        "id": "IWKNF5hKVKji"
      }
    },
    {
      "cell_type": "markdown",
      "source": [
        "**Escalonamento**"
      ],
      "metadata": {
        "id": "3h-IL7kLVMfF"
      }
    },
    {
      "cell_type": "code",
      "source": [
        "escala = StandardScaler()\n",
        "df_esc = escala.fit_transform(df)"
      ],
      "metadata": {
        "id": "CSldh_K6VOvd"
      },
      "execution_count": null,
      "outputs": []
    },
    {
      "cell_type": "code",
      "source": [
        "df"
      ],
      "metadata": {
        "id": "9-9abefqVmWs"
      },
      "execution_count": null,
      "outputs": []
    },
    {
      "cell_type": "code",
      "source": [
        "df_esc"
      ],
      "metadata": {
        "id": "N4bZ_h9sVkbG"
      },
      "execution_count": null,
      "outputs": []
    },
    {
      "cell_type": "markdown",
      "source": [
        "### K-Means com PCA"
      ],
      "metadata": {
        "id": "5sZIgBI8Vwye"
      }
    },
    {
      "cell_type": "code",
      "source": [
        "pca = PCA(n_components = 2)"
      ],
      "metadata": {
        "id": "uN49vBU4V0d5"
      },
      "execution_count": null,
      "outputs": []
    },
    {
      "cell_type": "code",
      "source": [
        "df_pca = pca.fit_transform(df_esc)"
      ],
      "metadata": {
        "id": "Za2tNk4uV7oa"
      },
      "execution_count": null,
      "outputs": []
    },
    {
      "cell_type": "code",
      "source": [
        "pca.explained_variance_ratio_"
      ],
      "metadata": {
        "id": "I-VXNAiSV__2"
      },
      "execution_count": null,
      "outputs": []
    },
    {
      "cell_type": "markdown",
      "source": [
        "Elbow Method"
      ],
      "metadata": {
        "id": "vNbQz3tnWGUX"
      }
    },
    {
      "cell_type": "code",
      "source": [
        "wcss = []\n",
        "for i in range(1, 11):\n",
        "    kmeans = KMeans(n_clusters = i, init = 'k-means++', random_state = 5, max_iter = 300)\n",
        "    kmeans.fit(df_pca)\n",
        "    wcss.append(kmeans.inertia_)"
      ],
      "metadata": {
        "id": "NyjuaNoLWHRd"
      },
      "execution_count": null,
      "outputs": []
    },
    {
      "cell_type": "code",
      "source": [
        "plt.figure(figsize=(10,5))\n",
        "sns.lineplot(x=range(1, 11), y=wcss,marker='o',color='red')\n",
        "plt.title('The Elbow Method')\n",
        "plt.xlabel('Número de clusters')\n",
        "plt.ylabel('WCSS');"
      ],
      "metadata": {
        "id": "QMz9B7M3WLy6"
      },
      "execution_count": null,
      "outputs": []
    },
    {
      "cell_type": "code",
      "source": [
        "kmeans = KMeans(n_clusters = 3, init = 'k-means++', random_state = 5, max_iter = 300)\n"
      ],
      "metadata": {
        "id": "bR9AiVtEWY1j"
      },
      "execution_count": null,
      "outputs": []
    },
    {
      "cell_type": "code",
      "source": [
        "kmeans2 = kmeans.fit(df_pca)"
      ],
      "metadata": {
        "id": "X5Jp97UTWcJU"
      },
      "execution_count": null,
      "outputs": []
    },
    {
      "cell_type": "code",
      "source": [
        "centroides = kmeans2.cluster_centers_"
      ],
      "metadata": {
        "id": "tHE5snepWiYk"
      },
      "execution_count": null,
      "outputs": []
    },
    {
      "cell_type": "code",
      "source": [
        "classificacao1 = kmeans2.labels_\n",
        "classificacao1"
      ],
      "metadata": {
        "id": "sCp7UIMFWkRT"
      },
      "execution_count": null,
      "outputs": []
    },
    {
      "cell_type": "code",
      "source": [
        "graf1 = px.scatter(x = df_pca[:,0], y = df_pca[:,1], color=classificacao1)\n",
        "graf2 = px.scatter(x = centroides[:,0], y = centroides[:,1], size = [15, 15, 15])\n",
        "graf3 = go.Figure(data = graf1.data + graf2.data)\n",
        "graf3.update_layout(width=800,height=500,title_text='Agrupamento K-Means com PCA')\n",
        "graf3.update_xaxes(title = 'Componente 1')\n",
        "graf3.update_yaxes(title = 'Componente 2')\n",
        "graf3.show()"
      ],
      "metadata": {
        "id": "f4S8mSUtYlMI"
      },
      "execution_count": null,
      "outputs": []
    },
    {
      "cell_type": "code",
      "source": [
        "agrupamento1 = pd.DataFrame(classificacao1, columns = ['Grupo'])\n",
        "agrupamento1"
      ],
      "metadata": {
        "id": "0sWtl3abZRis"
      },
      "execution_count": null,
      "outputs": []
    },
    {
      "cell_type": "code",
      "source": [
        "df2 = pd.concat([df,agrupamento1],axis=1)\n",
        "df2"
      ],
      "metadata": {
        "id": "e8U7hGm7ZUKn"
      },
      "execution_count": null,
      "outputs": []
    },
    {
      "cell_type": "code",
      "source": [
        "grupo0 = df2.loc[df2['Grupo'] == 0]\n",
        "grupo1 = df2.loc[df2['Grupo'] == 1]\n",
        "grupo2 = df2.loc[df2['Grupo'] == 2]"
      ],
      "metadata": {
        "id": "bhzP8EeFZmnN"
      },
      "execution_count": null,
      "outputs": []
    },
    {
      "cell_type": "code",
      "source": [
        "grupo0.shape"
      ],
      "metadata": {
        "id": "DJ6MP3wQZ8uR"
      },
      "execution_count": null,
      "outputs": []
    },
    {
      "cell_type": "code",
      "source": [
        "grupo1.shape"
      ],
      "metadata": {
        "id": "xxi_yp6qZ-GK"
      },
      "execution_count": null,
      "outputs": []
    },
    {
      "cell_type": "code",
      "source": [
        "grupo2.shape"
      ],
      "metadata": {
        "id": "Er6fAuZHZ_ft"
      },
      "execution_count": null,
      "outputs": []
    },
    {
      "cell_type": "code",
      "source": [
        "sil1 = silhouette_score(df_pca, classificacao1)\n",
        "dbi1 = davies_bouldin_score(df_pca, classificacao1)\n",
        "chi1 = calinski_harabasz_score(df_pca, classificacao1)\n",
        "\n",
        "print(\"Silhouette:\", sil1, \"DBI:\", dbi1, \"CHI:\", chi1)"
      ],
      "metadata": {
        "id": "K8rvh0oDBuRK"
      },
      "execution_count": null,
      "outputs": []
    },
    {
      "cell_type": "code",
      "source": [
        "resultados = []\n",
        "resultados.append([\"KMeans\", \"Sim\", 3, sil1, dbi1, chi1])"
      ],
      "metadata": {
        "id": "kiOydlPEOtKh"
      },
      "execution_count": null,
      "outputs": []
    },
    {
      "cell_type": "markdown",
      "source": [
        "### K-Means com todos os atributos"
      ],
      "metadata": {
        "id": "NuD4A0nUaG_u"
      }
    },
    {
      "cell_type": "code",
      "source": [
        "from sklearn.cluster import KMeans\n",
        "wcss = []\n",
        "for i in range(1,15):\n",
        "    kmeans = KMeans(n_clusters = i, init = 'k-means++', random_state = 5, max_iter = 300)\n",
        "    kmeans.fit(df_esc)\n",
        "    wcss.append(kmeans.inertia_)"
      ],
      "metadata": {
        "id": "24_c8ai_aLJb"
      },
      "execution_count": null,
      "outputs": []
    },
    {
      "cell_type": "code",
      "source": [
        "plt.figure(figsize=(10,5))\n",
        "sns.lineplot(x=range(1, 15), y=wcss,marker='o',color='red')\n",
        "plt.title('The Elbow Method')\n",
        "plt.xlabel('Número de clusters')\n",
        "plt.ylabel('WCSS');"
      ],
      "metadata": {
        "id": "bnEwmgLtaZsA"
      },
      "execution_count": null,
      "outputs": []
    },
    {
      "cell_type": "code",
      "source": [
        "kmeans = KMeans(n_clusters = 3, init = 'k-means++', random_state = 5, max_iter = 300)"
      ],
      "metadata": {
        "id": "z6BymohYadJg"
      },
      "execution_count": null,
      "outputs": []
    },
    {
      "cell_type": "code",
      "source": [
        "kmeans3 = kmeans.fit(df_esc)"
      ],
      "metadata": {
        "id": "xN47HCjDaiz6"
      },
      "execution_count": null,
      "outputs": []
    },
    {
      "cell_type": "code",
      "source": [
        "centroides = kmeans3.cluster_centers_\n",
        "centroides"
      ],
      "metadata": {
        "id": "48anHfiMapK6"
      },
      "execution_count": null,
      "outputs": []
    },
    {
      "cell_type": "code",
      "source": [
        "classificacao2 = kmeans3.labels_\n",
        "classificacao2"
      ],
      "metadata": {
        "id": "25NLGD9Sarva"
      },
      "execution_count": null,
      "outputs": []
    },
    {
      "cell_type": "code",
      "source": [
        "agrupamento2 = pd.DataFrame(classificacao2, columns = ['Grupo'])"
      ],
      "metadata": {
        "id": "XVbIa2Edayvy"
      },
      "execution_count": null,
      "outputs": []
    },
    {
      "cell_type": "code",
      "source": [
        "df3 = pd.concat([df,agrupamento2],axis=1)\n",
        "df3"
      ],
      "metadata": {
        "id": "pwYWJo9HaysP"
      },
      "execution_count": null,
      "outputs": []
    },
    {
      "cell_type": "code",
      "source": [
        "grupo0 = df3.loc[df3.Grupo == 0]\n",
        "grupo1 = df3.loc[df3.Grupo == 1]\n",
        "grupo2 = df3.loc[df3.Grupo == 2]"
      ],
      "metadata": {
        "id": "EwegbEjSbEFL"
      },
      "execution_count": null,
      "outputs": []
    },
    {
      "cell_type": "code",
      "source": [
        "grupo0.shape"
      ],
      "metadata": {
        "id": "dksxdCLxbIsj"
      },
      "execution_count": null,
      "outputs": []
    },
    {
      "cell_type": "code",
      "source": [
        "grupo1.shape"
      ],
      "metadata": {
        "id": "gHAybBK5bMET"
      },
      "execution_count": null,
      "outputs": []
    },
    {
      "cell_type": "code",
      "source": [
        "grupo2.shape"
      ],
      "metadata": {
        "id": "tZSqpGFsbNcW"
      },
      "execution_count": null,
      "outputs": []
    },
    {
      "cell_type": "code",
      "source": [
        "sil2 = silhouette_score(df_esc, classificacao2)\n",
        "dbi2 = davies_bouldin_score(df_esc, classificacao2)\n",
        "chi2 = calinski_harabasz_score(df_esc, classificacao2)\n",
        "\n",
        "print(\"Silhouette:\", sil2, \"DBI:\", dbi2, \"CHI:\", chi2)"
      ],
      "metadata": {
        "id": "FNfD8hwxFXrY"
      },
      "execution_count": null,
      "outputs": []
    },
    {
      "cell_type": "code",
      "source": [
        "resultados.append([\"KMeans\", \"Não\", 3, sil2, dbi2, chi2])"
      ],
      "metadata": {
        "id": "kwKr9Q92OzYc"
      },
      "execution_count": null,
      "outputs": []
    },
    {
      "cell_type": "markdown",
      "source": [
        "### Agrupamento Hierárquico com PCA"
      ],
      "metadata": {
        "id": "IPzEGZ1PbiQl"
      }
    },
    {
      "cell_type": "code",
      "source": [
        "dendrograma = dendrogram(linkage(df_pca, method = 'complete'))"
      ],
      "metadata": {
        "id": "SEZ5bBBPbkdX"
      },
      "execution_count": null,
      "outputs": []
    },
    {
      "cell_type": "code",
      "source": [
        "hier = AgglomerativeClustering(n_clusters=3, metric='euclidean', linkage = 'complete')\n",
        "classificacao3 = hier.fit_predict(df_pca)"
      ],
      "metadata": {
        "id": "w2h2nwpQckm2"
      },
      "execution_count": null,
      "outputs": []
    },
    {
      "cell_type": "code",
      "source": [
        "classificacao3"
      ],
      "metadata": {
        "id": "AvOtXH1Vc5Mm"
      },
      "execution_count": null,
      "outputs": []
    },
    {
      "cell_type": "code",
      "source": [
        "graf = px.scatter(x = df_pca[:,0], y = df_pca[:,1], color=classificacao3)\n",
        "graf.update_layout(width=800,height=500,title_text='Agrupamento Hierárquico')\n",
        "graf.show()"
      ],
      "metadata": {
        "id": "G7vqUVEfc7By"
      },
      "execution_count": null,
      "outputs": []
    },
    {
      "cell_type": "code",
      "source": [
        "agrupamento3 = pd.DataFrame(classificacao3, columns = ['Grupo'])"
      ],
      "metadata": {
        "id": "R5GsK7N-eCWR"
      },
      "execution_count": null,
      "outputs": []
    },
    {
      "cell_type": "code",
      "source": [
        "df4 = pd.concat([df,agrupamento3],axis=1)\n",
        "df4"
      ],
      "metadata": {
        "id": "KXcwyKsieLEF"
      },
      "execution_count": null,
      "outputs": []
    },
    {
      "cell_type": "code",
      "source": [
        "grupo0 = df4.loc[df4.Grupo == 0]\n",
        "grupo1 = df4.loc[df4.Grupo == 1]\n",
        "grupo2 = df4.loc[df4.Grupo == 2]"
      ],
      "metadata": {
        "id": "jICxzBLIeOJa"
      },
      "execution_count": null,
      "outputs": []
    },
    {
      "cell_type": "code",
      "source": [
        "grupo0.shape"
      ],
      "metadata": {
        "id": "v7NaM3AHeaOF"
      },
      "execution_count": null,
      "outputs": []
    },
    {
      "cell_type": "code",
      "source": [
        "grupo1.shape"
      ],
      "metadata": {
        "id": "LEuU8H7pebds"
      },
      "execution_count": null,
      "outputs": []
    },
    {
      "cell_type": "code",
      "source": [
        "grupo2.shape"
      ],
      "metadata": {
        "id": "UNB1eLHOeeIE"
      },
      "execution_count": null,
      "outputs": []
    },
    {
      "cell_type": "code",
      "source": [
        "sil3 = silhouette_score(df_pca, classificacao3)\n",
        "dbi3 = davies_bouldin_score(df_pca, classificacao3)\n",
        "chi3 = calinski_harabasz_score(df_pca, classificacao3)\n",
        "\n",
        "print(\"Silhouette:\", sil3, \"DBI:\", dbi3, \"CHI:\", chi3)"
      ],
      "metadata": {
        "id": "UDOLAr-dFd0A"
      },
      "execution_count": null,
      "outputs": []
    },
    {
      "cell_type": "code",
      "source": [
        "resultados.append([\"Hierárquico\", \"Sim\", 3, sil3, dbi3, chi3])"
      ],
      "metadata": {
        "id": "aTv3vAPTO2GL"
      },
      "execution_count": null,
      "outputs": []
    },
    {
      "cell_type": "markdown",
      "source": [
        "### Agrupamento hierárquico com todos os atributos"
      ],
      "metadata": {
        "id": "CEw1emrVdcHc"
      }
    },
    {
      "cell_type": "code",
      "source": [
        "dendrograma = dendrogram(linkage(df_esc, method = 'ward'))"
      ],
      "metadata": {
        "id": "1RTi6WXEdpm5"
      },
      "execution_count": null,
      "outputs": []
    },
    {
      "cell_type": "code",
      "source": [
        "hier = AgglomerativeClustering(n_clusters=3, metric='euclidean', linkage = 'ward')\n",
        "classificacao4 = hier.fit_predict(df_esc)"
      ],
      "metadata": {
        "id": "9B3cvG8TehPE"
      },
      "execution_count": null,
      "outputs": []
    },
    {
      "cell_type": "code",
      "source": [
        "classificacao4"
      ],
      "metadata": {
        "id": "N6lz0qMhewLb"
      },
      "execution_count": null,
      "outputs": []
    },
    {
      "cell_type": "code",
      "source": [
        "agrupamento4 = pd.DataFrame(classificacao4, columns = ['Grupo'])"
      ],
      "metadata": {
        "id": "t8o4FP2sexm-"
      },
      "execution_count": null,
      "outputs": []
    },
    {
      "cell_type": "code",
      "source": [
        "df5 = pd.concat([df,agrupamento4],axis=1)"
      ],
      "metadata": {
        "id": "p947A8ThfK4_"
      },
      "execution_count": null,
      "outputs": []
    },
    {
      "cell_type": "code",
      "source": [
        "grupo0 = df5.loc[df5.Grupo == 0]\n",
        "grupo1 = df5.loc[df5.Grupo == 1]\n",
        "grupo2 = df5.loc[df5.Grupo == 2]"
      ],
      "metadata": {
        "id": "Ag71Ev8RfSla"
      },
      "execution_count": null,
      "outputs": []
    },
    {
      "cell_type": "code",
      "source": [
        "grupo0.shape"
      ],
      "metadata": {
        "id": "1_0pJBKrfXQK"
      },
      "execution_count": null,
      "outputs": []
    },
    {
      "cell_type": "code",
      "source": [
        "grupo1.shape"
      ],
      "metadata": {
        "id": "IWMurB6tfapH"
      },
      "execution_count": null,
      "outputs": []
    },
    {
      "cell_type": "code",
      "source": [
        "grupo2.shape"
      ],
      "metadata": {
        "id": "lHcNCLb4faYF"
      },
      "execution_count": null,
      "outputs": []
    },
    {
      "cell_type": "code",
      "source": [
        "sil4 = silhouette_score(df_esc, classificacao4)\n",
        "dbi4 = davies_bouldin_score(df_esc, classificacao4)\n",
        "chi4 = calinski_harabasz_score(df_esc, classificacao4)\n",
        "\n",
        "print(\"Silhouette:\", sil4, \"DBI:\", dbi4, \"CHI:\", chi4)"
      ],
      "metadata": {
        "id": "GgJBqpSgFlQH"
      },
      "execution_count": null,
      "outputs": []
    },
    {
      "cell_type": "code",
      "source": [
        "resultados.append([\"Hierárquico\", \"Não\", 3, sil4, dbi4, chi4])"
      ],
      "metadata": {
        "id": "nG2nUdlLO3oX"
      },
      "execution_count": null,
      "outputs": []
    },
    {
      "cell_type": "markdown",
      "source": [
        "### DBSCAN com PCA"
      ],
      "metadata": {
        "id": "89kkYbAbfoti"
      }
    },
    {
      "cell_type": "code",
      "source": [
        "dbscan = DBSCAN(eps = 0.53, min_samples=4)\n",
        "dbscan.fit(df_pca)"
      ],
      "metadata": {
        "id": "4wztHrOdfqrL"
      },
      "execution_count": null,
      "outputs": []
    },
    {
      "cell_type": "code",
      "source": [
        "classificacao5 = dbscan.labels_\n",
        "classificacao5"
      ],
      "metadata": {
        "id": "6pt5Ebsof3xj"
      },
      "execution_count": null,
      "outputs": []
    },
    {
      "cell_type": "code",
      "source": [
        "graf = px.scatter(x = df_pca[:,0], y = df_pca[:,1], color=classificacao5)\n",
        "graf.update_layout(width=800,height=500,title_text='Agrupamento DBSCAN')\n",
        "graf.show()"
      ],
      "metadata": {
        "id": "O8zyC2_rgPF6"
      },
      "execution_count": null,
      "outputs": []
    },
    {
      "cell_type": "code",
      "source": [
        "agrupamento5 = pd.DataFrame(classificacao5, columns = ['Grupo'])\n",
        "agrupamento5"
      ],
      "metadata": {
        "id": "Q96iasVtg04c"
      },
      "execution_count": null,
      "outputs": []
    },
    {
      "cell_type": "code",
      "source": [
        "df6 = pd.concat([df, agrupamento5],axis=1)"
      ],
      "metadata": {
        "id": "IybWX8t-g8lT"
      },
      "execution_count": null,
      "outputs": []
    },
    {
      "cell_type": "code",
      "source": [
        "grupo0 = df6.loc[df6.Grupo == 0]\n",
        "grupo1 = df6.loc[df6.Grupo == 1]\n",
        "grupo2 = df6.loc[df6.Grupo == 2]"
      ],
      "metadata": {
        "id": "ES3gTBqdhC-V"
      },
      "execution_count": null,
      "outputs": []
    },
    {
      "cell_type": "code",
      "source": [
        "grupo0.shape"
      ],
      "metadata": {
        "id": "HMZP4SgrhL-w"
      },
      "execution_count": null,
      "outputs": []
    },
    {
      "cell_type": "code",
      "source": [
        "grupo1.shape"
      ],
      "metadata": {
        "id": "Ku01dZQchOFH"
      },
      "execution_count": null,
      "outputs": []
    },
    {
      "cell_type": "code",
      "source": [
        "grupo2.shape"
      ],
      "metadata": {
        "id": "TG4nIfvmhSUN"
      },
      "execution_count": null,
      "outputs": []
    },
    {
      "cell_type": "code",
      "source": [
        "sil5 = silhouette_score(df_pca, classificacao5)\n",
        "dbi5 = davies_bouldin_score(df_pca, classificacao5)\n",
        "chi5 = calinski_harabasz_score(df_pca, classificacao5)\n",
        "\n",
        "print(\"Silhouette:\", sil5, \"DBI:\", dbi5, \"CHI:\", chi5)"
      ],
      "metadata": {
        "id": "t7a_TBbIFsPG"
      },
      "execution_count": null,
      "outputs": []
    },
    {
      "cell_type": "code",
      "source": [
        "resultados.append([\"DBSCAN\", \"Sim\", 3, sil5, dbi5, chi5])"
      ],
      "metadata": {
        "id": "twN5SytlO5Yl"
      },
      "execution_count": null,
      "outputs": []
    },
    {
      "cell_type": "markdown",
      "source": [
        "### DBSCAN com todos os atributos"
      ],
      "metadata": {
        "id": "4Y-X6_OShV3p"
      }
    },
    {
      "cell_type": "code",
      "source": [
        "from sklearn.neighbors import NearestNeighbors\n",
        "import numpy as np\n",
        "import matplotlib.pyplot as plt\n",
        "\n",
        "neighbors = NearestNeighbors(n_neighbors=3)\n",
        "neighbors_fit = neighbors.fit(df_esc)\n",
        "distances, indices = neighbors_fit.kneighbors(df_esc)\n",
        "\n",
        "distances = np.sort(distances[:,2])\n",
        "plt.plot(distances)\n",
        "plt.show()"
      ],
      "metadata": {
        "id": "ljIQzq119BpG"
      },
      "execution_count": null,
      "outputs": []
    },
    {
      "cell_type": "code",
      "source": [
        "dbscan = DBSCAN(eps = 2.16, min_samples=3)\n",
        "dbscan.fit(df_esc)"
      ],
      "metadata": {
        "id": "Qhn7e86ChZnG"
      },
      "execution_count": null,
      "outputs": []
    },
    {
      "cell_type": "code",
      "source": [
        "classificacao6 = dbscan.labels_\n",
        "classificacao6"
      ],
      "metadata": {
        "id": "_VJg8y9AjnRr"
      },
      "execution_count": null,
      "outputs": []
    },
    {
      "cell_type": "code",
      "source": [
        "agrupamento6 = pd.DataFrame(classificacao6, columns = ['Grupo'])\n"
      ],
      "metadata": {
        "id": "nvo9KRiB9n3w"
      },
      "execution_count": null,
      "outputs": []
    },
    {
      "cell_type": "code",
      "source": [
        "df7 = pd.concat([df,agrupamento6],axis=1)"
      ],
      "metadata": {
        "id": "kVjYPIEV-X3c"
      },
      "execution_count": null,
      "outputs": []
    },
    {
      "cell_type": "code",
      "source": [
        "grupo0 = df7.loc[df7.Grupo == 0]\n",
        "grupo1 = df7.loc[df7.Grupo == 1]\n",
        "grupo2 = df7.loc[df7.Grupo == 2]"
      ],
      "metadata": {
        "id": "qlDYMgnM-euf"
      },
      "execution_count": null,
      "outputs": []
    },
    {
      "cell_type": "code",
      "source": [
        "grupo0.shape"
      ],
      "metadata": {
        "id": "vB61IKtI-jSY"
      },
      "execution_count": null,
      "outputs": []
    },
    {
      "cell_type": "code",
      "source": [
        "grupo1.shape"
      ],
      "metadata": {
        "id": "or00goGz-mCd"
      },
      "execution_count": null,
      "outputs": []
    },
    {
      "cell_type": "code",
      "source": [
        "grupo2.shape"
      ],
      "metadata": {
        "id": "dnD4Xir3-m2H"
      },
      "execution_count": null,
      "outputs": []
    },
    {
      "cell_type": "code",
      "source": [
        "sil6 = silhouette_score(df_esc, classificacao6)\n",
        "dbi6 = davies_bouldin_score(df_esc, classificacao6)\n",
        "chi6 = calinski_harabasz_score(df_esc, classificacao6)\n",
        "\n",
        "print(\"Silhouette:\", sil6, \"DBI:\", dbi6, \"CHI:\", chi6)"
      ],
      "metadata": {
        "id": "VTVN0U2gFvMB"
      },
      "execution_count": null,
      "outputs": []
    },
    {
      "cell_type": "code",
      "source": [
        "resultados.append([\"DBSCAN\", \"Não\", 3, sil6, dbi6, chi6])"
      ],
      "metadata": {
        "id": "ZyWimGiiO7YR"
      },
      "execution_count": null,
      "outputs": []
    },
    {
      "cell_type": "markdown",
      "source": [
        "### MeanShift com PCA"
      ],
      "metadata": {
        "id": "tMKJ4BVS-3yv"
      }
    },
    {
      "cell_type": "code",
      "source": [
        "mean = MeanShift(bandwidth=1.3, cluster_all=True)"
      ],
      "metadata": {
        "id": "iojhl8_Z-_eU"
      },
      "execution_count": null,
      "outputs": []
    },
    {
      "cell_type": "code",
      "source": [
        "mean.fit(df_pca)"
      ],
      "metadata": {
        "id": "lNAV0DjQ_GjL"
      },
      "execution_count": null,
      "outputs": []
    },
    {
      "cell_type": "code",
      "source": [
        "classificacao7 = mean.labels_\n",
        "classificacao7"
      ],
      "metadata": {
        "id": "kjQX96ym_JaR"
      },
      "execution_count": null,
      "outputs": []
    },
    {
      "cell_type": "code",
      "source": [
        "agrupamento7 = pd.DataFrame(classificacao7, columns = ['Grupo'])"
      ],
      "metadata": {
        "id": "vQJrM044_Z9J"
      },
      "execution_count": null,
      "outputs": []
    },
    {
      "cell_type": "code",
      "source": [
        "df8 = pd.concat([df,agrupamento7],axis=1)"
      ],
      "metadata": {
        "id": "7WmaNkd4_bBr"
      },
      "execution_count": null,
      "outputs": []
    },
    {
      "cell_type": "code",
      "source": [
        "grupo0 = df8.loc[df8.Grupo == 0]\n",
        "grupo1 = df8.loc[df8.Grupo == 1]\n",
        "grupo2 = df8.loc[df8.Grupo == 2]\n",
        "grupo3 = df8.loc[df8.Grupo == 3]"
      ],
      "metadata": {
        "id": "xg1Pzq2N_jFA"
      },
      "execution_count": null,
      "outputs": []
    },
    {
      "cell_type": "code",
      "source": [
        "grupo0.shape"
      ],
      "metadata": {
        "id": "nf4eKk6r_lZl"
      },
      "execution_count": null,
      "outputs": []
    },
    {
      "cell_type": "code",
      "source": [
        "grupo1.shape"
      ],
      "metadata": {
        "id": "0ucsqFDR_m3o"
      },
      "execution_count": null,
      "outputs": []
    },
    {
      "cell_type": "code",
      "source": [
        "grupo2.shape"
      ],
      "metadata": {
        "id": "sWUHqLPj_odO"
      },
      "execution_count": null,
      "outputs": []
    },
    {
      "cell_type": "code",
      "source": [
        "grupo3.shape"
      ],
      "metadata": {
        "id": "R3Zt99hD_tKp"
      },
      "execution_count": null,
      "outputs": []
    },
    {
      "cell_type": "code",
      "source": [
        "sil7 = silhouette_score(df_pca, classificacao7)\n",
        "dbi7 = davies_bouldin_score(df_pca, classificacao7)\n",
        "chi7 = calinski_harabasz_score(df_pca, classificacao7)\n",
        "\n",
        "print(\"Silhouette:\", sil7, \"DBI:\", dbi7, \"CHI:\", chi7)"
      ],
      "metadata": {
        "id": "hA_5qyzAF3AP"
      },
      "execution_count": null,
      "outputs": []
    },
    {
      "cell_type": "code",
      "source": [
        "resultados.append([\"MeanShift\", \"Sim\", 4, sil7, dbi7, chi7])"
      ],
      "metadata": {
        "id": "BkYdrYzyO825"
      },
      "execution_count": null,
      "outputs": []
    },
    {
      "cell_type": "markdown",
      "source": [
        "### MeanShift com todos os atributos"
      ],
      "metadata": {
        "id": "ZGuCF8G2_2ka"
      }
    },
    {
      "cell_type": "code",
      "source": [
        "mean = MeanShift(bandwidth=3.6, cluster_all=True)"
      ],
      "metadata": {
        "id": "ciqXEJA1_3HG"
      },
      "execution_count": null,
      "outputs": []
    },
    {
      "cell_type": "code",
      "source": [
        "mean.fit(df_esc)"
      ],
      "metadata": {
        "id": "-Pmh--Ka_5RA"
      },
      "execution_count": null,
      "outputs": []
    },
    {
      "cell_type": "code",
      "source": [
        "classificacao8 = mean.labels_\n",
        "classificacao8"
      ],
      "metadata": {
        "id": "oIkmTvf4_6vf"
      },
      "execution_count": null,
      "outputs": []
    },
    {
      "cell_type": "code",
      "source": [
        "agrupamento8 = pd.DataFrame(classificacao8, columns = ['Grupo'])"
      ],
      "metadata": {
        "id": "WcxOEKcdGAmB"
      },
      "execution_count": null,
      "outputs": []
    },
    {
      "cell_type": "code",
      "source": [
        "df9 = pd.concat([df,agrupamento8],axis=1)"
      ],
      "metadata": {
        "id": "VicID5BnGFRV"
      },
      "execution_count": null,
      "outputs": []
    },
    {
      "cell_type": "code",
      "source": [
        "grupo0 = df9.loc[df9.Grupo == 0]\n",
        "grupo1 = df9.loc[df9.Grupo == 1]\n",
        "grupo2 = df9.loc[df9.Grupo == 2]\n",
        "grupo3 = df9.loc[df9.Grupo == 3]\n",
        "grupo4 = df9.loc[df9.Grupo == 4]\n",
        "grupo5 = df9.loc[df9.Grupo == 5]"
      ],
      "metadata": {
        "id": "qtc02-Y8GIXP"
      },
      "execution_count": null,
      "outputs": []
    },
    {
      "cell_type": "code",
      "source": [
        "grupo0.shape"
      ],
      "metadata": {
        "id": "5O0E9yjkGKM4"
      },
      "execution_count": null,
      "outputs": []
    },
    {
      "cell_type": "code",
      "source": [
        "grupo1.shape"
      ],
      "metadata": {
        "id": "TMPmYGbgGKx0"
      },
      "execution_count": null,
      "outputs": []
    },
    {
      "cell_type": "code",
      "source": [
        "grupo2.shape"
      ],
      "metadata": {
        "id": "IMA0YJRxGKmn"
      },
      "execution_count": null,
      "outputs": []
    },
    {
      "cell_type": "code",
      "source": [
        "grupo3.shape"
      ],
      "metadata": {
        "id": "f5RfNyycGKdO"
      },
      "execution_count": null,
      "outputs": []
    },
    {
      "cell_type": "code",
      "source": [
        "grupo4.shape"
      ],
      "metadata": {
        "id": "GqDBsmlkGNrE"
      },
      "execution_count": null,
      "outputs": []
    },
    {
      "cell_type": "code",
      "source": [
        "grupo5.shape"
      ],
      "metadata": {
        "id": "sgAZ-1O-GOh2"
      },
      "execution_count": null,
      "outputs": []
    },
    {
      "cell_type": "code",
      "source": [
        "sil8 = silhouette_score(df_esc, classificacao8)\n",
        "dbi8 = davies_bouldin_score(df_esc, classificacao8)\n",
        "chi8 = calinski_harabasz_score(df_esc, classificacao8)\n",
        "\n",
        "print(\"Silhouette:\", sil8, \"DBI:\", dbi8, \"CHI:\", chi8)"
      ],
      "metadata": {
        "id": "D_o2g5wyAxme"
      },
      "execution_count": null,
      "outputs": []
    },
    {
      "cell_type": "code",
      "source": [
        "resultados.append([\"MeanShift\", \"Não\", 6, sil8, dbi8, chi8])"
      ],
      "metadata": {
        "id": "yS0dMK6-O_K1"
      },
      "execution_count": null,
      "outputs": []
    },
    {
      "cell_type": "markdown",
      "source": [
        "### Tabela comparativa"
      ],
      "metadata": {
        "id": "qZ-9nIDVGdee"
      }
    },
    {
      "cell_type": "code",
      "source": [
        "tabela = pd.DataFrame(resultados, columns=[\"Algoritmo\", \"PCA\", \"#Clusters\", \"Silhouette\", \"DBI\", \"CHI\"])\n",
        "tabela"
      ],
      "metadata": {
        "id": "__urmkrRGe31"
      },
      "execution_count": null,
      "outputs": []
    }
  ]
}